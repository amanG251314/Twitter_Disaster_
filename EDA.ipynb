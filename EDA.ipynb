{
 "cells": [
  {
   "cell_type": "code",
   "execution_count": 1,
   "id": "e2dfe3e6",
   "metadata": {},
   "outputs": [],
   "source": [
    "import numpy as np\n",
    "import pandas as pd\n",
    "import math\n",
    "from spacy.lang.en.stop_words import STOP_WORDS\n",
    "import spacy\n",
    "import matplotlib.pyplot as plt\n",
    "import seaborn as sns\n",
    "sns.set_theme()\n",
    "%matplotlib inline"
   ]
  },
  {
   "cell_type": "code",
   "execution_count": 2,
   "id": "4566d021",
   "metadata": {},
   "outputs": [],
   "source": [
    "df=pd.read_csv('dataset/train.csv')\n",
    "df=df.drop('id',axis=1)"
   ]
  },
  {
   "cell_type": "code",
   "execution_count": 3,
   "id": "46c86945",
   "metadata": {},
   "outputs": [
    {
     "data": {
      "text/html": [
       "<div>\n",
       "<style scoped>\n",
       "    .dataframe tbody tr th:only-of-type {\n",
       "        vertical-align: middle;\n",
       "    }\n",
       "\n",
       "    .dataframe tbody tr th {\n",
       "        vertical-align: top;\n",
       "    }\n",
       "\n",
       "    .dataframe thead th {\n",
       "        text-align: right;\n",
       "    }\n",
       "</style>\n",
       "<table border=\"1\" class=\"dataframe\">\n",
       "  <thead>\n",
       "    <tr style=\"text-align: right;\">\n",
       "      <th></th>\n",
       "      <th>keyword</th>\n",
       "      <th>location</th>\n",
       "      <th>text</th>\n",
       "      <th>target</th>\n",
       "    </tr>\n",
       "  </thead>\n",
       "  <tbody>\n",
       "    <tr>\n",
       "      <th>0</th>\n",
       "      <td>NaN</td>\n",
       "      <td>NaN</td>\n",
       "      <td>Our Deeds are the Reason of this #earthquake M...</td>\n",
       "      <td>1</td>\n",
       "    </tr>\n",
       "    <tr>\n",
       "      <th>1</th>\n",
       "      <td>NaN</td>\n",
       "      <td>NaN</td>\n",
       "      <td>Forest fire near La Ronge Sask. Canada</td>\n",
       "      <td>1</td>\n",
       "    </tr>\n",
       "    <tr>\n",
       "      <th>2</th>\n",
       "      <td>NaN</td>\n",
       "      <td>NaN</td>\n",
       "      <td>All residents asked to 'shelter in place' are ...</td>\n",
       "      <td>1</td>\n",
       "    </tr>\n",
       "    <tr>\n",
       "      <th>3</th>\n",
       "      <td>NaN</td>\n",
       "      <td>NaN</td>\n",
       "      <td>13,000 people receive #wildfires evacuation or...</td>\n",
       "      <td>1</td>\n",
       "    </tr>\n",
       "    <tr>\n",
       "      <th>4</th>\n",
       "      <td>NaN</td>\n",
       "      <td>NaN</td>\n",
       "      <td>Just got sent this photo from Ruby #Alaska as ...</td>\n",
       "      <td>1</td>\n",
       "    </tr>\n",
       "  </tbody>\n",
       "</table>\n",
       "</div>"
      ],
      "text/plain": [
       "  keyword location                                               text  target\n",
       "0     NaN      NaN  Our Deeds are the Reason of this #earthquake M...       1\n",
       "1     NaN      NaN             Forest fire near La Ronge Sask. Canada       1\n",
       "2     NaN      NaN  All residents asked to 'shelter in place' are ...       1\n",
       "3     NaN      NaN  13,000 people receive #wildfires evacuation or...       1\n",
       "4     NaN      NaN  Just got sent this photo from Ruby #Alaska as ...       1"
      ]
     },
     "execution_count": 3,
     "metadata": {},
     "output_type": "execute_result"
    }
   ],
   "source": [
    "df.head()"
   ]
  },
  {
   "cell_type": "code",
   "execution_count": 4,
   "id": "9a99fd0a",
   "metadata": {},
   "outputs": [
    {
     "name": "stdout",
     "output_type": "stream",
     "text": [
      "<class 'pandas.core.frame.DataFrame'>\n",
      "RangeIndex: 7613 entries, 0 to 7612\n",
      "Data columns (total 4 columns):\n",
      " #   Column    Non-Null Count  Dtype \n",
      "---  ------    --------------  ----- \n",
      " 0   keyword   7552 non-null   object\n",
      " 1   location  5080 non-null   object\n",
      " 2   text      7613 non-null   object\n",
      " 3   target    7613 non-null   int64 \n",
      "dtypes: int64(1), object(3)\n",
      "memory usage: 238.0+ KB\n"
     ]
    }
   ],
   "source": [
    "df.info()"
   ]
  },
  {
   "cell_type": "code",
   "execution_count": 5,
   "id": "c622b614",
   "metadata": {},
   "outputs": [
    {
     "data": {
      "text/plain": [
       "True"
      ]
     },
     "execution_count": 5,
     "metadata": {},
     "output_type": "execute_result"
    }
   ],
   "source": [
    "math.isnan(df['keyword'][0])"
   ]
  },
  {
   "cell_type": "code",
   "execution_count": 6,
   "id": "ca11ee77",
   "metadata": {},
   "outputs": [],
   "source": [
    "def nan(x):\n",
    "    try:\n",
    "        if math.isnan(x):\n",
    "            return 'Missing'\n",
    "    except:\n",
    "        return x"
   ]
  },
  {
   "cell_type": "code",
   "execution_count": 7,
   "id": "e2b89792",
   "metadata": {},
   "outputs": [],
   "source": [
    "df['keyword']=df['keyword'].apply(lambda x:nan(x))\n",
    "df['location']=df['location'].apply(lambda x:nan(x))"
   ]
  },
  {
   "cell_type": "code",
   "execution_count": 8,
   "id": "33ee51fd",
   "metadata": {},
   "outputs": [
    {
     "data": {
      "text/html": [
       "<div>\n",
       "<style scoped>\n",
       "    .dataframe tbody tr th:only-of-type {\n",
       "        vertical-align: middle;\n",
       "    }\n",
       "\n",
       "    .dataframe tbody tr th {\n",
       "        vertical-align: top;\n",
       "    }\n",
       "\n",
       "    .dataframe thead th {\n",
       "        text-align: right;\n",
       "    }\n",
       "</style>\n",
       "<table border=\"1\" class=\"dataframe\">\n",
       "  <thead>\n",
       "    <tr style=\"text-align: right;\">\n",
       "      <th></th>\n",
       "      <th>keyword</th>\n",
       "      <th>location</th>\n",
       "      <th>text</th>\n",
       "      <th>target</th>\n",
       "    </tr>\n",
       "  </thead>\n",
       "  <tbody>\n",
       "    <tr>\n",
       "      <th>0</th>\n",
       "      <td>Missing</td>\n",
       "      <td>Missing</td>\n",
       "      <td>Our Deeds are the Reason of this #earthquake M...</td>\n",
       "      <td>1</td>\n",
       "    </tr>\n",
       "    <tr>\n",
       "      <th>1</th>\n",
       "      <td>Missing</td>\n",
       "      <td>Missing</td>\n",
       "      <td>Forest fire near La Ronge Sask. Canada</td>\n",
       "      <td>1</td>\n",
       "    </tr>\n",
       "    <tr>\n",
       "      <th>2</th>\n",
       "      <td>Missing</td>\n",
       "      <td>Missing</td>\n",
       "      <td>All residents asked to 'shelter in place' are ...</td>\n",
       "      <td>1</td>\n",
       "    </tr>\n",
       "    <tr>\n",
       "      <th>3</th>\n",
       "      <td>Missing</td>\n",
       "      <td>Missing</td>\n",
       "      <td>13,000 people receive #wildfires evacuation or...</td>\n",
       "      <td>1</td>\n",
       "    </tr>\n",
       "    <tr>\n",
       "      <th>4</th>\n",
       "      <td>Missing</td>\n",
       "      <td>Missing</td>\n",
       "      <td>Just got sent this photo from Ruby #Alaska as ...</td>\n",
       "      <td>1</td>\n",
       "    </tr>\n",
       "  </tbody>\n",
       "</table>\n",
       "</div>"
      ],
      "text/plain": [
       "   keyword location                                               text  target\n",
       "0  Missing  Missing  Our Deeds are the Reason of this #earthquake M...       1\n",
       "1  Missing  Missing             Forest fire near La Ronge Sask. Canada       1\n",
       "2  Missing  Missing  All residents asked to 'shelter in place' are ...       1\n",
       "3  Missing  Missing  13,000 people receive #wildfires evacuation or...       1\n",
       "4  Missing  Missing  Just got sent this photo from Ruby #Alaska as ...       1"
      ]
     },
     "execution_count": 8,
     "metadata": {},
     "output_type": "execute_result"
    }
   ],
   "source": [
    "df.head()"
   ]
  },
  {
   "cell_type": "code",
   "execution_count": 9,
   "id": "f19ce96a",
   "metadata": {},
   "outputs": [
    {
     "name": "stdout",
     "output_type": "stream",
     "text": [
      "<class 'pandas.core.frame.DataFrame'>\n",
      "RangeIndex: 7613 entries, 0 to 7612\n",
      "Data columns (total 4 columns):\n",
      " #   Column    Non-Null Count  Dtype \n",
      "---  ------    --------------  ----- \n",
      " 0   keyword   7613 non-null   object\n",
      " 1   location  7613 non-null   object\n",
      " 2   text      7613 non-null   object\n",
      " 3   target    7613 non-null   int64 \n",
      "dtypes: int64(1), object(3)\n",
      "memory usage: 238.0+ KB\n"
     ]
    }
   ],
   "source": [
    "df.info()"
   ]
  },
  {
   "cell_type": "code",
   "execution_count": 10,
   "id": "87bc2b75",
   "metadata": {},
   "outputs": [
    {
     "data": {
      "text/plain": [
       "0    4342\n",
       "1    3271\n",
       "Name: target, dtype: int64"
      ]
     },
     "execution_count": 10,
     "metadata": {},
     "output_type": "execute_result"
    }
   ],
   "source": [
    "df['target'].value_counts()"
   ]
  },
  {
   "cell_type": "code",
   "execution_count": 11,
   "id": "fc9d7c09",
   "metadata": {},
   "outputs": [],
   "source": [
    "def char_count(x):\n",
    "    s=x.split()\n",
    "    x=''.join(s)\n",
    "    return len(x)"
   ]
  },
  {
   "cell_type": "code",
   "execution_count": 12,
   "id": "22d75b63",
   "metadata": {},
   "outputs": [],
   "source": [
    "df['Word_Count']=df['text'].apply(lambda x:len(x.split()))\n",
    "df['Character_count']=df['text'].apply(lambda x:char_count(x))"
   ]
  },
  {
   "cell_type": "code",
   "execution_count": 13,
   "id": "d4fc2d85",
   "metadata": {},
   "outputs": [
    {
     "data": {
      "text/html": [
       "<div>\n",
       "<style scoped>\n",
       "    .dataframe tbody tr th:only-of-type {\n",
       "        vertical-align: middle;\n",
       "    }\n",
       "\n",
       "    .dataframe tbody tr th {\n",
       "        vertical-align: top;\n",
       "    }\n",
       "\n",
       "    .dataframe thead th {\n",
       "        text-align: right;\n",
       "    }\n",
       "</style>\n",
       "<table border=\"1\" class=\"dataframe\">\n",
       "  <thead>\n",
       "    <tr style=\"text-align: right;\">\n",
       "      <th></th>\n",
       "      <th>keyword</th>\n",
       "      <th>location</th>\n",
       "      <th>text</th>\n",
       "      <th>target</th>\n",
       "      <th>Word_Count</th>\n",
       "      <th>Character_count</th>\n",
       "    </tr>\n",
       "  </thead>\n",
       "  <tbody>\n",
       "    <tr>\n",
       "      <th>0</th>\n",
       "      <td>Missing</td>\n",
       "      <td>Missing</td>\n",
       "      <td>Our Deeds are the Reason of this #earthquake M...</td>\n",
       "      <td>1</td>\n",
       "      <td>13</td>\n",
       "      <td>57</td>\n",
       "    </tr>\n",
       "    <tr>\n",
       "      <th>1</th>\n",
       "      <td>Missing</td>\n",
       "      <td>Missing</td>\n",
       "      <td>Forest fire near La Ronge Sask. Canada</td>\n",
       "      <td>1</td>\n",
       "      <td>7</td>\n",
       "      <td>32</td>\n",
       "    </tr>\n",
       "    <tr>\n",
       "      <th>2</th>\n",
       "      <td>Missing</td>\n",
       "      <td>Missing</td>\n",
       "      <td>All residents asked to 'shelter in place' are ...</td>\n",
       "      <td>1</td>\n",
       "      <td>22</td>\n",
       "      <td>112</td>\n",
       "    </tr>\n",
       "    <tr>\n",
       "      <th>3</th>\n",
       "      <td>Missing</td>\n",
       "      <td>Missing</td>\n",
       "      <td>13,000 people receive #wildfires evacuation or...</td>\n",
       "      <td>1</td>\n",
       "      <td>8</td>\n",
       "      <td>57</td>\n",
       "    </tr>\n",
       "    <tr>\n",
       "      <th>4</th>\n",
       "      <td>Missing</td>\n",
       "      <td>Missing</td>\n",
       "      <td>Just got sent this photo from Ruby #Alaska as ...</td>\n",
       "      <td>1</td>\n",
       "      <td>16</td>\n",
       "      <td>72</td>\n",
       "    </tr>\n",
       "  </tbody>\n",
       "</table>\n",
       "</div>"
      ],
      "text/plain": [
       "   keyword location                                               text  \\\n",
       "0  Missing  Missing  Our Deeds are the Reason of this #earthquake M...   \n",
       "1  Missing  Missing             Forest fire near La Ronge Sask. Canada   \n",
       "2  Missing  Missing  All residents asked to 'shelter in place' are ...   \n",
       "3  Missing  Missing  13,000 people receive #wildfires evacuation or...   \n",
       "4  Missing  Missing  Just got sent this photo from Ruby #Alaska as ...   \n",
       "\n",
       "   target  Word_Count  Character_count  \n",
       "0       1          13               57  \n",
       "1       1           7               32  \n",
       "2       1          22              112  \n",
       "3       1           8               57  \n",
       "4       1          16               72  "
      ]
     },
     "execution_count": 13,
     "metadata": {},
     "output_type": "execute_result"
    }
   ],
   "source": [
    "df.head()"
   ]
  },
  {
   "cell_type": "code",
   "execution_count": 14,
   "id": "ad5d5b45",
   "metadata": {},
   "outputs": [],
   "source": [
    "df['StopWord_Count']=df['text'].apply(lambda x:len([t for t in x.split() if t in STOP_WORDS]))"
   ]
  },
  {
   "cell_type": "code",
   "execution_count": 15,
   "id": "2d0479ef",
   "metadata": {},
   "outputs": [
    {
     "data": {
      "text/html": [
       "<div>\n",
       "<style scoped>\n",
       "    .dataframe tbody tr th:only-of-type {\n",
       "        vertical-align: middle;\n",
       "    }\n",
       "\n",
       "    .dataframe tbody tr th {\n",
       "        vertical-align: top;\n",
       "    }\n",
       "\n",
       "    .dataframe thead th {\n",
       "        text-align: right;\n",
       "    }\n",
       "</style>\n",
       "<table border=\"1\" class=\"dataframe\">\n",
       "  <thead>\n",
       "    <tr style=\"text-align: right;\">\n",
       "      <th></th>\n",
       "      <th>keyword</th>\n",
       "      <th>location</th>\n",
       "      <th>text</th>\n",
       "      <th>target</th>\n",
       "      <th>Word_Count</th>\n",
       "      <th>Character_count</th>\n",
       "      <th>StopWord_Count</th>\n",
       "    </tr>\n",
       "  </thead>\n",
       "  <tbody>\n",
       "    <tr>\n",
       "      <th>0</th>\n",
       "      <td>Missing</td>\n",
       "      <td>Missing</td>\n",
       "      <td>Our Deeds are the Reason of this #earthquake M...</td>\n",
       "      <td>1</td>\n",
       "      <td>13</td>\n",
       "      <td>57</td>\n",
       "      <td>6</td>\n",
       "    </tr>\n",
       "    <tr>\n",
       "      <th>1</th>\n",
       "      <td>Missing</td>\n",
       "      <td>Missing</td>\n",
       "      <td>Forest fire near La Ronge Sask. Canada</td>\n",
       "      <td>1</td>\n",
       "      <td>7</td>\n",
       "      <td>32</td>\n",
       "      <td>0</td>\n",
       "    </tr>\n",
       "    <tr>\n",
       "      <th>2</th>\n",
       "      <td>Missing</td>\n",
       "      <td>Missing</td>\n",
       "      <td>All residents asked to 'shelter in place' are ...</td>\n",
       "      <td>1</td>\n",
       "      <td>22</td>\n",
       "      <td>112</td>\n",
       "      <td>9</td>\n",
       "    </tr>\n",
       "    <tr>\n",
       "      <th>3</th>\n",
       "      <td>Missing</td>\n",
       "      <td>Missing</td>\n",
       "      <td>13,000 people receive #wildfires evacuation or...</td>\n",
       "      <td>1</td>\n",
       "      <td>8</td>\n",
       "      <td>57</td>\n",
       "      <td>1</td>\n",
       "    </tr>\n",
       "    <tr>\n",
       "      <th>4</th>\n",
       "      <td>Missing</td>\n",
       "      <td>Missing</td>\n",
       "      <td>Just got sent this photo from Ruby #Alaska as ...</td>\n",
       "      <td>1</td>\n",
       "      <td>16</td>\n",
       "      <td>72</td>\n",
       "      <td>6</td>\n",
       "    </tr>\n",
       "  </tbody>\n",
       "</table>\n",
       "</div>"
      ],
      "text/plain": [
       "   keyword location                                               text  \\\n",
       "0  Missing  Missing  Our Deeds are the Reason of this #earthquake M...   \n",
       "1  Missing  Missing             Forest fire near La Ronge Sask. Canada   \n",
       "2  Missing  Missing  All residents asked to 'shelter in place' are ...   \n",
       "3  Missing  Missing  13,000 people receive #wildfires evacuation or...   \n",
       "4  Missing  Missing  Just got sent this photo from Ruby #Alaska as ...   \n",
       "\n",
       "   target  Word_Count  Character_count  StopWord_Count  \n",
       "0       1          13               57               6  \n",
       "1       1           7               32               0  \n",
       "2       1          22              112               9  \n",
       "3       1           8               57               1  \n",
       "4       1          16               72               6  "
      ]
     },
     "execution_count": 15,
     "metadata": {},
     "output_type": "execute_result"
    }
   ],
   "source": [
    "df.head()"
   ]
  },
  {
   "cell_type": "code",
   "execution_count": 16,
   "id": "c208b495",
   "metadata": {},
   "outputs": [],
   "source": [
    "df['Mention_count']=df['text'].apply(lambda x:len([t for t in x.split() if t.startswith('@')]))\n",
    "df['Hashtag_count']=df['text'].apply(lambda x:len([t for t in x.split() if t.startswith('#')]))"
   ]
  },
  {
   "cell_type": "code",
   "execution_count": 17,
   "id": "88a4a7dd",
   "metadata": {},
   "outputs": [],
   "source": [
    "df['Numerics_Count']=df['text'].apply(lambda x:len([t for t in x.split() if t.isdigit()]))"
   ]
  },
  {
   "cell_type": "code",
   "execution_count": 18,
   "id": "584edff4",
   "metadata": {},
   "outputs": [],
   "source": [
    "df['Upper_Count']=df['text'].apply(lambda x:len([t for t in x.split() if t.isupper()]))"
   ]
  },
  {
   "cell_type": "code",
   "execution_count": 19,
   "id": "d8b75229",
   "metadata": {},
   "outputs": [
    {
     "data": {
      "text/html": [
       "<div>\n",
       "<style scoped>\n",
       "    .dataframe tbody tr th:only-of-type {\n",
       "        vertical-align: middle;\n",
       "    }\n",
       "\n",
       "    .dataframe tbody tr th {\n",
       "        vertical-align: top;\n",
       "    }\n",
       "\n",
       "    .dataframe thead th {\n",
       "        text-align: right;\n",
       "    }\n",
       "</style>\n",
       "<table border=\"1\" class=\"dataframe\">\n",
       "  <thead>\n",
       "    <tr style=\"text-align: right;\">\n",
       "      <th></th>\n",
       "      <th>keyword</th>\n",
       "      <th>location</th>\n",
       "      <th>text</th>\n",
       "      <th>target</th>\n",
       "      <th>Word_Count</th>\n",
       "      <th>Character_count</th>\n",
       "      <th>StopWord_Count</th>\n",
       "      <th>Mention_count</th>\n",
       "      <th>Hashtag_count</th>\n",
       "      <th>Numerics_Count</th>\n",
       "      <th>Upper_Count</th>\n",
       "    </tr>\n",
       "  </thead>\n",
       "  <tbody>\n",
       "    <tr>\n",
       "      <th>0</th>\n",
       "      <td>Missing</td>\n",
       "      <td>Missing</td>\n",
       "      <td>Our Deeds are the Reason of this #earthquake M...</td>\n",
       "      <td>1</td>\n",
       "      <td>13</td>\n",
       "      <td>57</td>\n",
       "      <td>6</td>\n",
       "      <td>0</td>\n",
       "      <td>1</td>\n",
       "      <td>0</td>\n",
       "      <td>1</td>\n",
       "    </tr>\n",
       "    <tr>\n",
       "      <th>1</th>\n",
       "      <td>Missing</td>\n",
       "      <td>Missing</td>\n",
       "      <td>Forest fire near La Ronge Sask. Canada</td>\n",
       "      <td>1</td>\n",
       "      <td>7</td>\n",
       "      <td>32</td>\n",
       "      <td>0</td>\n",
       "      <td>0</td>\n",
       "      <td>0</td>\n",
       "      <td>0</td>\n",
       "      <td>0</td>\n",
       "    </tr>\n",
       "    <tr>\n",
       "      <th>2</th>\n",
       "      <td>Missing</td>\n",
       "      <td>Missing</td>\n",
       "      <td>All residents asked to 'shelter in place' are ...</td>\n",
       "      <td>1</td>\n",
       "      <td>22</td>\n",
       "      <td>112</td>\n",
       "      <td>9</td>\n",
       "      <td>0</td>\n",
       "      <td>0</td>\n",
       "      <td>0</td>\n",
       "      <td>0</td>\n",
       "    </tr>\n",
       "    <tr>\n",
       "      <th>3</th>\n",
       "      <td>Missing</td>\n",
       "      <td>Missing</td>\n",
       "      <td>13,000 people receive #wildfires evacuation or...</td>\n",
       "      <td>1</td>\n",
       "      <td>8</td>\n",
       "      <td>57</td>\n",
       "      <td>1</td>\n",
       "      <td>0</td>\n",
       "      <td>1</td>\n",
       "      <td>0</td>\n",
       "      <td>0</td>\n",
       "    </tr>\n",
       "    <tr>\n",
       "      <th>4</th>\n",
       "      <td>Missing</td>\n",
       "      <td>Missing</td>\n",
       "      <td>Just got sent this photo from Ruby #Alaska as ...</td>\n",
       "      <td>1</td>\n",
       "      <td>16</td>\n",
       "      <td>72</td>\n",
       "      <td>6</td>\n",
       "      <td>0</td>\n",
       "      <td>2</td>\n",
       "      <td>0</td>\n",
       "      <td>0</td>\n",
       "    </tr>\n",
       "  </tbody>\n",
       "</table>\n",
       "</div>"
      ],
      "text/plain": [
       "   keyword location                                               text  \\\n",
       "0  Missing  Missing  Our Deeds are the Reason of this #earthquake M...   \n",
       "1  Missing  Missing             Forest fire near La Ronge Sask. Canada   \n",
       "2  Missing  Missing  All residents asked to 'shelter in place' are ...   \n",
       "3  Missing  Missing  13,000 people receive #wildfires evacuation or...   \n",
       "4  Missing  Missing  Just got sent this photo from Ruby #Alaska as ...   \n",
       "\n",
       "   target  Word_Count  Character_count  StopWord_Count  Mention_count  \\\n",
       "0       1          13               57               6              0   \n",
       "1       1           7               32               0              0   \n",
       "2       1          22              112               9              0   \n",
       "3       1           8               57               1              0   \n",
       "4       1          16               72               6              0   \n",
       "\n",
       "   Hashtag_count  Numerics_Count  Upper_Count  \n",
       "0              1               0            1  \n",
       "1              0               0            0  \n",
       "2              0               0            0  \n",
       "3              1               0            0  \n",
       "4              2               0            0  "
      ]
     },
     "execution_count": 19,
     "metadata": {},
     "output_type": "execute_result"
    }
   ],
   "source": [
    "df.head()"
   ]
  },
  {
   "cell_type": "markdown",
   "id": "1a393426",
   "metadata": {},
   "source": [
    "# Clearning and preprocessing the data"
   ]
  },
  {
   "cell_type": "code",
   "execution_count": 20,
   "id": "f4d00aaf",
   "metadata": {},
   "outputs": [],
   "source": [
    "## LowerCase Conversion\n",
    "df['text']=df['text'].apply(lambda x:str(x).lower())"
   ]
  },
  {
   "cell_type": "code",
   "execution_count": 21,
   "id": "43ef3d57",
   "metadata": {},
   "outputs": [],
   "source": [
    "#contraction to expansion  (I'll: I Will)\n",
    "import contractions"
   ]
  },
  {
   "cell_type": "code",
   "execution_count": 22,
   "id": "451776e9",
   "metadata": {},
   "outputs": [],
   "source": [
    "test=\"I don't go to won't the market\""
   ]
  },
  {
   "cell_type": "code",
   "execution_count": 23,
   "id": "cc1c2fa6",
   "metadata": {},
   "outputs": [],
   "source": [
    "def Cont2Exp(x):\n",
    "    if type(x) is str:\n",
    "        a=[]\n",
    "        for word in x.split():\n",
    "            a.append(contractions.fix(word))\n",
    "        expanded_text = ' '.join(a)\n",
    "        return expanded_text\n",
    "    else:\n",
    "        return x"
   ]
  },
  {
   "cell_type": "code",
   "execution_count": 24,
   "id": "630c8758",
   "metadata": {},
   "outputs": [],
   "source": [
    "df['text']=df['text'].apply(lambda x:Cont2Exp(x))"
   ]
  },
  {
   "cell_type": "markdown",
   "id": "51d79820",
   "metadata": {},
   "source": [
    "## Counting and Removing Emails from the dataset"
   ]
  },
  {
   "cell_type": "code",
   "execution_count": 25,
   "id": "374fccce",
   "metadata": {},
   "outputs": [],
   "source": [
    "import re"
   ]
  },
  {
   "cell_type": "code",
   "execution_count": 26,
   "id": "1267a796",
   "metadata": {},
   "outputs": [],
   "source": [
    "df['emails']=df['text'].apply(lambda x:re.findall(r'([a-z0-9+._-]+@[a-z0-9+._-]+\\.[a-z0-9+._-]+)',x))"
   ]
  },
  {
   "cell_type": "code",
   "execution_count": 27,
   "id": "464fd57a",
   "metadata": {},
   "outputs": [],
   "source": [
    "df['email_Count']=df['emails'].apply(lambda x: len(x))"
   ]
  },
  {
   "cell_type": "code",
   "execution_count": 28,
   "id": "5512f7ed",
   "metadata": {},
   "outputs": [],
   "source": [
    "# Remove emails from the tweets\n",
    "df['text']=df['text'].apply(lambda x:re.sub(r'([a-z0-9+._-]+@[a-z0-9+._-]+\\.[a-z0-9+._-]+)',\"\",x))"
   ]
  },
  {
   "cell_type": "code",
   "execution_count": 29,
   "id": "ba613c01",
   "metadata": {},
   "outputs": [],
   "source": [
    "#Counting urls and removing it from the tweets\n",
    "df['url_flag']=df['text'].apply(lambda x:len(re.findall(r'(http|https|ftp|ssh://([\\w_-]+(?:\\.[\\w_-]+)+))([\\w.,@?^=%&:/~+#-]*[\\w@?^=%&/~+#-])?',x)))\n",
    "df['text']=df['text'].apply(lambda x:(re.sub(r'(http|https|ftp|ssh://([\\w_-]+(?:\\.[\\w_-]+)+))([\\w.,@?^=%&:/~+#-]*[\\w@?^=%&/~+#-])?','',x)))"
   ]
  },
  {
   "cell_type": "code",
   "execution_count": 30,
   "id": "00d2ac62",
   "metadata": {},
   "outputs": [],
   "source": [
    "# Retweet flag and remove rt from the begining\n",
    "df['Retweet_flag']=df['text'].apply(lambda x:len(re.findall(r'\\brt\\b',x)))\n",
    "df['text']=df['text'].apply(lambda x:(re.sub(r'\\brt\\b','',x)))"
   ]
  },
  {
   "cell_type": "code",
   "execution_count": 31,
   "id": "561ae536",
   "metadata": {},
   "outputs": [],
   "source": [
    "# Remove Special Characters\n",
    "df['text']=df['text'].apply(lambda x:re.sub(r'[^\\w ]+',\"\",x))"
   ]
  },
  {
   "cell_type": "code",
   "execution_count": 32,
   "id": "6848e3bc",
   "metadata": {},
   "outputs": [],
   "source": [
    "# Remove Numeric\n",
    "df['text']=df['text'].apply(lambda x:re.sub(r'[0-9]','',x))"
   ]
  },
  {
   "cell_type": "code",
   "execution_count": 33,
   "id": "0329cbfe",
   "metadata": {},
   "outputs": [],
   "source": [
    "#Remove Extra Spaces\n",
    "df['text']=df['text'].apply(lambda x:' '.join(x.split()))"
   ]
  },
  {
   "cell_type": "code",
   "execution_count": 34,
   "id": "6ce4a80e",
   "metadata": {},
   "outputs": [],
   "source": [
    "#Remove HTML Tags\n",
    "from bs4 import BeautifulSoup \n",
    "df['text']=df['text'].apply(lambda x:BeautifulSoup(x, 'lxml').get_text().strip())"
   ]
  },
  {
   "cell_type": "code",
   "execution_count": 35,
   "id": "e24e2adf",
   "metadata": {},
   "outputs": [],
   "source": [
    "# Remove Accented Char\n",
    "import unicodedata\n",
    "def RemoveAccentedChar(x):\n",
    "    x=unicodedata.normalize('NFKD',x).encode('ascii','ignore').decode('utf-8','ignore')\n",
    "    return x\n",
    "df['text']=df['text'].apply(lambda x:RemoveAccentedChar(x))"
   ]
  },
  {
   "cell_type": "code",
   "execution_count": 36,
   "id": "30dafcd7",
   "metadata": {},
   "outputs": [],
   "source": [
    "# Removing StopWords\n",
    "df['text']=df['text'].apply(lambda x: ' '.join([t for t in x.split() if t not in STOP_WORDS]))"
   ]
  },
  {
   "cell_type": "code",
   "execution_count": 37,
   "id": "414983ef",
   "metadata": {},
   "outputs": [],
   "source": [
    "# Covert text to it's base form (Lemmatizing)\n",
    "nlp=spacy.load('en_core_web_sm')\n",
    "def make_to_base(x):\n",
    "    x=str(x)\n",
    "    x_list=[]\n",
    "    doc=nlp(x)\n",
    "    \n",
    "    for token in doc:\n",
    "        lemma=token.lemma_\n",
    "        if lemma=='-PRON-' or lemma=='be':\n",
    "            lemma=token.text\n",
    "        x_list.append(lemma)\n",
    "    return ' '.join(x_list)\n",
    "df['text']=df['text'].apply(lambda x:make_to_base(x))"
   ]
  },
  {
   "cell_type": "code",
   "execution_count": 38,
   "id": "82c4975a",
   "metadata": {},
   "outputs": [],
   "source": [
    "# Removing Most occuring words\n",
    "text=' '.join(df['text'])\n",
    "text=text.split()\n",
    "freq_comm=pd.Series(text).value_counts()\n",
    "f2=freq_comm[:2]\n",
    "df['text']=df['text'].apply(lambda x:' '.join([t for t in x.split() if t not in f2]))"
   ]
  },
  {
   "cell_type": "code",
   "execution_count": 39,
   "id": "c65491bf",
   "metadata": {},
   "outputs": [],
   "source": [
    "# Removing Rarely occuring words\n",
    "rare10000=freq_comm.tail(10000)\n",
    "df['text']=df['text'].apply(lambda x:' '.join([t for t in x.split() if t not in rare10000]))"
   ]
  },
  {
   "cell_type": "code",
   "execution_count": 40,
   "id": "419f16f7",
   "metadata": {},
   "outputs": [],
   "source": [
    "# Remove Blank tweet \n",
    "a=df['text'].apply(lambda x:len(x.split()))\n",
    "df_filtered=df[a==0]\n",
    "df.drop(df_filtered.index, inplace = True)"
   ]
  },
  {
   "cell_type": "code",
   "execution_count": 41,
   "id": "a584399e",
   "metadata": {},
   "outputs": [
    {
     "data": {
      "text/html": [
       "<div>\n",
       "<style scoped>\n",
       "    .dataframe tbody tr th:only-of-type {\n",
       "        vertical-align: middle;\n",
       "    }\n",
       "\n",
       "    .dataframe tbody tr th {\n",
       "        vertical-align: top;\n",
       "    }\n",
       "\n",
       "    .dataframe thead th {\n",
       "        text-align: right;\n",
       "    }\n",
       "</style>\n",
       "<table border=\"1\" class=\"dataframe\">\n",
       "  <thead>\n",
       "    <tr style=\"text-align: right;\">\n",
       "      <th></th>\n",
       "      <th>keyword</th>\n",
       "      <th>location</th>\n",
       "      <th>text</th>\n",
       "      <th>target</th>\n",
       "      <th>Word_Count</th>\n",
       "      <th>Character_count</th>\n",
       "      <th>StopWord_Count</th>\n",
       "      <th>Mention_count</th>\n",
       "      <th>Hashtag_count</th>\n",
       "      <th>Numerics_Count</th>\n",
       "      <th>Upper_Count</th>\n",
       "      <th>emails</th>\n",
       "      <th>email_Count</th>\n",
       "      <th>url_flag</th>\n",
       "      <th>Retweet_flag</th>\n",
       "    </tr>\n",
       "  </thead>\n",
       "  <tbody>\n",
       "    <tr>\n",
       "      <th>0</th>\n",
       "      <td>Missing</td>\n",
       "      <td>Missing</td>\n",
       "      <td>deed reason earthquake allah forgive</td>\n",
       "      <td>1</td>\n",
       "      <td>13</td>\n",
       "      <td>57</td>\n",
       "      <td>6</td>\n",
       "      <td>0</td>\n",
       "      <td>1</td>\n",
       "      <td>0</td>\n",
       "      <td>1</td>\n",
       "      <td>[]</td>\n",
       "      <td>0</td>\n",
       "      <td>0</td>\n",
       "      <td>0</td>\n",
       "    </tr>\n",
       "    <tr>\n",
       "      <th>1</th>\n",
       "      <td>Missing</td>\n",
       "      <td>Missing</td>\n",
       "      <td>forest fire near la canada</td>\n",
       "      <td>1</td>\n",
       "      <td>7</td>\n",
       "      <td>32</td>\n",
       "      <td>0</td>\n",
       "      <td>0</td>\n",
       "      <td>0</td>\n",
       "      <td>0</td>\n",
       "      <td>0</td>\n",
       "      <td>[]</td>\n",
       "      <td>0</td>\n",
       "      <td>0</td>\n",
       "      <td>0</td>\n",
       "    </tr>\n",
       "    <tr>\n",
       "      <th>2</th>\n",
       "      <td>Missing</td>\n",
       "      <td>Missing</td>\n",
       "      <td>resident ask shelter place officer evacuation ...</td>\n",
       "      <td>1</td>\n",
       "      <td>22</td>\n",
       "      <td>112</td>\n",
       "      <td>9</td>\n",
       "      <td>0</td>\n",
       "      <td>0</td>\n",
       "      <td>0</td>\n",
       "      <td>0</td>\n",
       "      <td>[]</td>\n",
       "      <td>0</td>\n",
       "      <td>0</td>\n",
       "      <td>0</td>\n",
       "    </tr>\n",
       "    <tr>\n",
       "      <th>3</th>\n",
       "      <td>Missing</td>\n",
       "      <td>Missing</td>\n",
       "      <td>people receive wildfire evacuation order calif...</td>\n",
       "      <td>1</td>\n",
       "      <td>8</td>\n",
       "      <td>57</td>\n",
       "      <td>1</td>\n",
       "      <td>0</td>\n",
       "      <td>1</td>\n",
       "      <td>0</td>\n",
       "      <td>0</td>\n",
       "      <td>[]</td>\n",
       "      <td>0</td>\n",
       "      <td>0</td>\n",
       "      <td>0</td>\n",
       "    </tr>\n",
       "    <tr>\n",
       "      <th>4</th>\n",
       "      <td>Missing</td>\n",
       "      <td>Missing</td>\n",
       "      <td>got send photo alaska smoke wildfire pour school</td>\n",
       "      <td>1</td>\n",
       "      <td>16</td>\n",
       "      <td>72</td>\n",
       "      <td>6</td>\n",
       "      <td>0</td>\n",
       "      <td>2</td>\n",
       "      <td>0</td>\n",
       "      <td>0</td>\n",
       "      <td>[]</td>\n",
       "      <td>0</td>\n",
       "      <td>0</td>\n",
       "      <td>0</td>\n",
       "    </tr>\n",
       "  </tbody>\n",
       "</table>\n",
       "</div>"
      ],
      "text/plain": [
       "   keyword location                                               text  \\\n",
       "0  Missing  Missing               deed reason earthquake allah forgive   \n",
       "1  Missing  Missing                         forest fire near la canada   \n",
       "2  Missing  Missing  resident ask shelter place officer evacuation ...   \n",
       "3  Missing  Missing  people receive wildfire evacuation order calif...   \n",
       "4  Missing  Missing   got send photo alaska smoke wildfire pour school   \n",
       "\n",
       "   target  Word_Count  Character_count  StopWord_Count  Mention_count  \\\n",
       "0       1          13               57               6              0   \n",
       "1       1           7               32               0              0   \n",
       "2       1          22              112               9              0   \n",
       "3       1           8               57               1              0   \n",
       "4       1          16               72               6              0   \n",
       "\n",
       "   Hashtag_count  Numerics_Count  Upper_Count emails  email_Count  url_flag  \\\n",
       "0              1               0            1     []            0         0   \n",
       "1              0               0            0     []            0         0   \n",
       "2              0               0            0     []            0         0   \n",
       "3              1               0            0     []            0         0   \n",
       "4              2               0            0     []            0         0   \n",
       "\n",
       "   Retweet_flag  \n",
       "0             0  \n",
       "1             0  \n",
       "2             0  \n",
       "3             0  \n",
       "4             0  "
      ]
     },
     "execution_count": 41,
     "metadata": {},
     "output_type": "execute_result"
    }
   ],
   "source": [
    "df.head()"
   ]
  },
  {
   "cell_type": "markdown",
   "id": "d16e1b0a",
   "metadata": {},
   "source": [
    "## VIsualization"
   ]
  },
  {
   "cell_type": "code",
   "execution_count": 42,
   "id": "33063c3d",
   "metadata": {},
   "outputs": [],
   "source": [
    "from wordcloud import WordCloud\n",
    "import matplotlib.pyplot as plt"
   ]
  },
  {
   "cell_type": "code",
   "execution_count": 43,
   "id": "ed57e9b9",
   "metadata": {},
   "outputs": [],
   "source": [
    "text=' '.join(df['text'])"
   ]
  },
  {
   "cell_type": "code",
   "execution_count": 44,
   "id": "294fb65b",
   "metadata": {},
   "outputs": [
    {
     "data": {
      "image/png": "[encoded data removed]",
      "text/plain": [
       "<Figure size 432x288 with 1 Axes>"
      ]
     },
     "metadata": {
      "needs_background": "light"
     },
     "output_type": "display_data"
    }
   ],
   "source": [
    "wc=WordCloud(width=800,height=500).generate(text)\n",
    "plt.imshow(wc)\n",
    "plt.axis('off')\n",
    "plt.show()"
   ]
  },
  {
   "cell_type": "code",
   "execution_count": 45,
   "id": "418f088c",
   "metadata": {},
   "outputs": [
    {
     "data": {
      "text/plain": [
       "<matplotlib.legend.Legend at 0x281b4fd17c0>"
      ]
     },
     "execution_count": 45,
     "metadata": {},
     "output_type": "execute_result"
    },
    {
     "data": {
      "image/png": "[encoded data removed]",
      "text/plain": [
       "<Figure size 432x288 with 1 Axes>"
      ]
     },
     "metadata": {
      "needs_background": "light"
     },
     "output_type": "display_data"
    }
   ],
   "source": [
    "# Word Count of positive and negative\n",
    "sns.kdeplot(df[df['target']==0]['Word_Count'],shade=True, color='red',label='Negative')\n",
    "sns.kdeplot(df[df['target']==1]['Word_Count'],shade=True, color='blue',label='Positive')\n",
    "plt.title('Word_Count')\n",
    "plt.legend()"
   ]
  },
  {
   "cell_type": "markdown",
   "id": "4e700bb8",
   "metadata": {},
   "source": [
    "##### This tells us about that there are more words in the tweets when there was disaster"
   ]
  },
  {
   "cell_type": "code",
   "execution_count": 46,
   "id": "7f504fd9",
   "metadata": {},
   "outputs": [
    {
     "data": {
      "text/plain": [
       "<matplotlib.legend.Legend at 0x281b50e4430>"
      ]
     },
     "execution_count": 46,
     "metadata": {},
     "output_type": "execute_result"
    },
    {
     "data": {
      "image/png": "[encoded data removed]",
      "text/plain": [
       "<Figure size 432x288 with 1 Axes>"
      ]
     },
     "metadata": {
      "needs_background": "light"
     },
     "output_type": "display_data"
    }
   ],
   "source": [
    "# Character Count of positive and negative\n",
    "sns.kdeplot(df[df['target']==0]['Character_count'],shade=True, color='red',label='Negative')\n",
    "sns.kdeplot(df[df['target']==1]['Character_count'],shade=True, color='blue',label='Positive')\n",
    "plt.title('Character_count')\n",
    "plt.legend()"
   ]
  },
  {
   "cell_type": "markdown",
   "id": "444de0ba",
   "metadata": {},
   "source": [
    "##### This tells us about that there are more words in the tweets when there was disaster"
   ]
  },
  {
   "cell_type": "code",
   "execution_count": 47,
   "id": "1297d589",
   "metadata": {},
   "outputs": [
    {
     "data": {
      "text/plain": [
       "<matplotlib.legend.Legend at 0x281b5073d60>"
      ]
     },
     "execution_count": 47,
     "metadata": {},
     "output_type": "execute_result"
    },
    {
     "data": {
      "image/png": "[encoded data removed]",
      "text/plain": [
       "<Figure size 432x288 with 1 Axes>"
      ]
     },
     "metadata": {
      "needs_background": "light"
     },
     "output_type": "display_data"
    }
   ],
   "source": [
    "# Mentionunt of positive and negative\n",
    "sns.kdeplot(df[df['target']==0]['Mention_count'],shade=True, color='red',label='Negative')\n",
    "sns.kdeplot(df[df['target']==1]['Mention_count'],shade=True, color='blue',label='Positive')\n",
    "plt.title('Character_count')\n",
    "plt.legend()"
   ]
  },
  {
   "cell_type": "markdown",
   "id": "f5dd8655",
   "metadata": {},
   "source": [
    "#### In no disaster situation there are mentions more than when there was disaster"
   ]
  },
  {
   "cell_type": "code",
   "execution_count": 48,
   "id": "c48c3320",
   "metadata": {},
   "outputs": [
    {
     "data": {
      "text/plain": [
       "<matplotlib.legend.Legend at 0x281b5073ee0>"
      ]
     },
     "execution_count": 48,
     "metadata": {},
     "output_type": "execute_result"
    },
    {
     "data": {
      "image/png": "[encoded data removed]",
      "text/plain": [
       "<Figure size 432x288 with 1 Axes>"
      ]
     },
     "metadata": {
      "needs_background": "light"
     },
     "output_type": "display_data"
    }
   ],
   "source": [
    "# Hashtag_count of positive and negative\n",
    "sns.kdeplot(df[df['target']==0]['Hashtag_count'],shade=True, color='red',label='Negative')\n",
    "sns.kdeplot(df[df['target']==1]['Hashtag_count'],shade=True, color='blue',label='Positive')\n",
    "plt.title('Hashtag_count')\n",
    "plt.legend()"
   ]
  },
  {
   "cell_type": "code",
   "execution_count": 49,
   "id": "449c6a3e",
   "metadata": {},
   "outputs": [
    {
     "data": {
      "text/plain": [
       "<matplotlib.legend.Legend at 0x281b504f640>"
      ]
     },
     "execution_count": 49,
     "metadata": {},
     "output_type": "execute_result"
    },
    {
     "data": {
      "image/png": "[encoded data removed]",
      "text/plain": [
       "<Figure size 432x288 with 1 Axes>"
      ]
     },
     "metadata": {
      "needs_background": "light"
     },
     "output_type": "display_data"
    }
   ],
   "source": [
    "# Retweet_flag of positive and negative\n",
    "sns.kdeplot(df[df['target']==0]['Retweet_flag'],shade=True, color='red',label='Negative')\n",
    "sns.kdeplot(df[df['target']==1]['Retweet_flag'],shade=True, color='blue',label='Positive')\n",
    "plt.title('Retweet_flag')\n",
    "plt.legend()"
   ]
  },
  {
   "cell_type": "markdown",
   "id": "d3d69e76",
   "metadata": {},
   "source": [
    "## Saving preprocessed data file"
   ]
  },
  {
   "cell_type": "code",
   "execution_count": 50,
   "id": "677f2795",
   "metadata": {},
   "outputs": [],
   "source": [
    "df.to_csv('train_preprocessed_prelim.csv',index=False)"
   ]
  },
  {
   "cell_type": "code",
   "execution_count": null,
   "id": "795c7593",
   "metadata": {},
   "outputs": [],
   "source": []
  }
 ],
 "metadata": {
  "kernelspec": {
   "display_name": "Python 3",
   "language": "python",
   "name": "python3"
  },
  "language_info": {
   "codemirror_mode": {
    "name": "ipython",
    "version": 3
   },
   "file_extension": ".py",
   "mimetype": "text/x-python",
   "name": "python",
   "nbconvert_exporter": "python",
   "pygments_lexer": "ipython3",
   "version": "3.8.4"
  }
 },
 "nbformat": 4,
 "nbformat_minor": 5
}
