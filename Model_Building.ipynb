{
 "cells": [
  {
   "cell_type": "code",
   "execution_count": 46,
   "id": "929f841e",
   "metadata": {},
   "outputs": [],
   "source": [
    "import numpy as np\n",
    "import pandas as pd \n",
    "\n",
    "import preprocessing as pu\n",
    "\n",
    "import seaborn as sns\n",
    "import matplotlib.pyplot as plt\n",
    "sns.set_theme()\n",
    "\n",
    "from sklearn.feature_extraction.text import TfidfVectorizer\n",
    "from sklearn.model_selection import train_test_split \n",
    "\n",
    "from sklearn.ensemble import RandomForestClassifier, ExtraTreesClassifier\n",
    "from sklearn.svm import SVC\n",
    "import lightgbm as lgb\n",
    "\n",
    "from sklearn.metrics import accuracy_score, confusion_matrix,classification_report,roc_auc_score,roc_curve,f1_score\n",
    "from sklearn.pipeline import Pipeline\n",
    "\n",
    "import pickle"
   ]
  },
  {
   "cell_type": "code",
   "execution_count": 47,
   "id": "e0a75d64",
   "metadata": {},
   "outputs": [],
   "source": [
    "df=pd.read_csv('dataset/train.csv')"
   ]
  },
  {
   "cell_type": "code",
   "execution_count": 48,
   "id": "752f9d2b",
   "metadata": {},
   "outputs": [
    {
     "data": {
      "text/html": [
       "<div>\n",
       "<style scoped>\n",
       "    .dataframe tbody tr th:only-of-type {\n",
       "        vertical-align: middle;\n",
       "    }\n",
       "\n",
       "    .dataframe tbody tr th {\n",
       "        vertical-align: top;\n",
       "    }\n",
       "\n",
       "    .dataframe thead th {\n",
       "        text-align: right;\n",
       "    }\n",
       "</style>\n",
       "<table border=\"1\" class=\"dataframe\">\n",
       "  <thead>\n",
       "    <tr style=\"text-align: right;\">\n",
       "      <th></th>\n",
       "      <th>id</th>\n",
       "      <th>keyword</th>\n",
       "      <th>location</th>\n",
       "      <th>text</th>\n",
       "      <th>target</th>\n",
       "    </tr>\n",
       "  </thead>\n",
       "  <tbody>\n",
       "    <tr>\n",
       "      <th>0</th>\n",
       "      <td>1</td>\n",
       "      <td>NaN</td>\n",
       "      <td>NaN</td>\n",
       "      <td>Our Deeds are the Reason of this #earthquake M...</td>\n",
       "      <td>1</td>\n",
       "    </tr>\n",
       "    <tr>\n",
       "      <th>1</th>\n",
       "      <td>4</td>\n",
       "      <td>NaN</td>\n",
       "      <td>NaN</td>\n",
       "      <td>Forest fire near La Ronge Sask. Canada</td>\n",
       "      <td>1</td>\n",
       "    </tr>\n",
       "  </tbody>\n",
       "</table>\n",
       "</div>"
      ],
      "text/plain": [
       "   id keyword location                                               text  \\\n",
       "0   1     NaN      NaN  Our Deeds are the Reason of this #earthquake M...   \n",
       "1   4     NaN      NaN             Forest fire near La Ronge Sask. Canada   \n",
       "\n",
       "   target  \n",
       "0       1  \n",
       "1       1  "
      ]
     },
     "execution_count": 48,
     "metadata": {},
     "output_type": "execute_result"
    }
   ],
   "source": [
    "df.head(2)"
   ]
  },
  {
   "cell_type": "code",
   "execution_count": 49,
   "id": "73e0b1c6",
   "metadata": {},
   "outputs": [],
   "source": [
    "def Preprocess_text(df,col,text=True):\n",
    "    df=pu.DealMissing(df,col)\n",
    "    df=pu.LowerCase(df,col)\n",
    "    df=pu.cont2expansion(df,col)\n",
    "    df=pu.Remove_Emails(df,col)\n",
    "    df=pu.Remove_urls(df,col)\n",
    "    df=pu.Remove_rt(df,col)\n",
    "    df=pu.Remove_SpecialChar(df,col)\n",
    "    df=pu.Remove_Numeric(df,col)\n",
    "    df=pu.Remove_ExtraSpaces(df,col)\n",
    "    df=pu.Remove_HTMLTags(df,col)\n",
    "    df=pu.Remove_AccentedChar(df,col)\n",
    "    df=pu.Remove_StopWords(df,col)\n",
    "    df=pu.Convert2Base(df,col)\n",
    "    if text:\n",
    "        df=pu.Remove_MostOccuring(df,col)   #Vary with data\n",
    "        df=pu.Remove_RarelyOccuring(df,col)  #Vary with data\n",
    "        df=pu.Remove_Blank(df,col)\n",
    "        print('Main Text')\n",
    "    return df"
   ]
  },
  {
   "cell_type": "code",
   "execution_count": 50,
   "id": "c9f0b51c",
   "metadata": {},
   "outputs": [
    {
     "name": "stdout",
     "output_type": "stream",
     "text": [
      "Main Text\n"
     ]
    }
   ],
   "source": [
    "df=Preprocess_text(df,col='text')"
   ]
  },
  {
   "cell_type": "code",
   "execution_count": 51,
   "id": "ec5c7979",
   "metadata": {},
   "outputs": [],
   "source": [
    "df=Preprocess_text(df,col='keyword',text=False)"
   ]
  },
  {
   "cell_type": "code",
   "execution_count": 52,
   "id": "81130cb3",
   "metadata": {},
   "outputs": [
    {
     "data": {
      "text/html": [
       "<div>\n",
       "<style scoped>\n",
       "    .dataframe tbody tr th:only-of-type {\n",
       "        vertical-align: middle;\n",
       "    }\n",
       "\n",
       "    .dataframe tbody tr th {\n",
       "        vertical-align: top;\n",
       "    }\n",
       "\n",
       "    .dataframe thead th {\n",
       "        text-align: right;\n",
       "    }\n",
       "</style>\n",
       "<table border=\"1\" class=\"dataframe\">\n",
       "  <thead>\n",
       "    <tr style=\"text-align: right;\">\n",
       "      <th></th>\n",
       "      <th>id</th>\n",
       "      <th>keyword</th>\n",
       "      <th>location</th>\n",
       "      <th>text</th>\n",
       "      <th>target</th>\n",
       "    </tr>\n",
       "  </thead>\n",
       "  <tbody>\n",
       "    <tr>\n",
       "      <th>0</th>\n",
       "      <td>1</td>\n",
       "      <td>null</td>\n",
       "      <td>NaN</td>\n",
       "      <td>reason earthquake allah forgive</td>\n",
       "      <td>1</td>\n",
       "    </tr>\n",
       "    <tr>\n",
       "      <th>1</th>\n",
       "      <td>4</td>\n",
       "      <td>null</td>\n",
       "      <td>NaN</td>\n",
       "      <td>forest fire near la canada</td>\n",
       "      <td>1</td>\n",
       "    </tr>\n",
       "    <tr>\n",
       "      <th>2</th>\n",
       "      <td>5</td>\n",
       "      <td>null</td>\n",
       "      <td>NaN</td>\n",
       "      <td>resident ask shelter place officer evacuation ...</td>\n",
       "      <td>1</td>\n",
       "    </tr>\n",
       "    <tr>\n",
       "      <th>3</th>\n",
       "      <td>6</td>\n",
       "      <td>null</td>\n",
       "      <td>NaN</td>\n",
       "      <td>people receive wildfire evacuation order calif...</td>\n",
       "      <td>1</td>\n",
       "    </tr>\n",
       "    <tr>\n",
       "      <th>4</th>\n",
       "      <td>7</td>\n",
       "      <td>null</td>\n",
       "      <td>NaN</td>\n",
       "      <td>got send photo alaska smoke wildfire pour school</td>\n",
       "      <td>1</td>\n",
       "    </tr>\n",
       "  </tbody>\n",
       "</table>\n",
       "</div>"
      ],
      "text/plain": [
       "   id keyword location                                               text  \\\n",
       "0   1    null      NaN                    reason earthquake allah forgive   \n",
       "1   4    null      NaN                         forest fire near la canada   \n",
       "2   5    null      NaN  resident ask shelter place officer evacuation ...   \n",
       "3   6    null      NaN  people receive wildfire evacuation order calif...   \n",
       "4   7    null      NaN   got send photo alaska smoke wildfire pour school   \n",
       "\n",
       "   target  \n",
       "0       1  \n",
       "1       1  \n",
       "2       1  \n",
       "3       1  \n",
       "4       1  "
      ]
     },
     "execution_count": 52,
     "metadata": {},
     "output_type": "execute_result"
    }
   ],
   "source": [
    "df.head()"
   ]
  },
  {
   "cell_type": "code",
   "execution_count": 53,
   "id": "b8ae59cf",
   "metadata": {},
   "outputs": [],
   "source": [
    "df['combined']=df['text']+' '+df['keyword']"
   ]
  },
  {
   "cell_type": "code",
   "execution_count": 54,
   "id": "28d40529",
   "metadata": {},
   "outputs": [
    {
     "data": {
      "text/html": [
       "<div>\n",
       "<style scoped>\n",
       "    .dataframe tbody tr th:only-of-type {\n",
       "        vertical-align: middle;\n",
       "    }\n",
       "\n",
       "    .dataframe tbody tr th {\n",
       "        vertical-align: top;\n",
       "    }\n",
       "\n",
       "    .dataframe thead th {\n",
       "        text-align: right;\n",
       "    }\n",
       "</style>\n",
       "<table border=\"1\" class=\"dataframe\">\n",
       "  <thead>\n",
       "    <tr style=\"text-align: right;\">\n",
       "      <th></th>\n",
       "      <th>id</th>\n",
       "      <th>keyword</th>\n",
       "      <th>location</th>\n",
       "      <th>text</th>\n",
       "      <th>target</th>\n",
       "      <th>combined</th>\n",
       "    </tr>\n",
       "  </thead>\n",
       "  <tbody>\n",
       "    <tr>\n",
       "      <th>0</th>\n",
       "      <td>1</td>\n",
       "      <td>null</td>\n",
       "      <td>NaN</td>\n",
       "      <td>reason earthquake allah forgive</td>\n",
       "      <td>1</td>\n",
       "      <td>reason earthquake allah forgive null</td>\n",
       "    </tr>\n",
       "    <tr>\n",
       "      <th>1</th>\n",
       "      <td>4</td>\n",
       "      <td>null</td>\n",
       "      <td>NaN</td>\n",
       "      <td>forest fire near la canada</td>\n",
       "      <td>1</td>\n",
       "      <td>forest fire near la canada null</td>\n",
       "    </tr>\n",
       "    <tr>\n",
       "      <th>2</th>\n",
       "      <td>5</td>\n",
       "      <td>null</td>\n",
       "      <td>NaN</td>\n",
       "      <td>resident ask shelter place officer evacuation ...</td>\n",
       "      <td>1</td>\n",
       "      <td>resident ask shelter place officer evacuation ...</td>\n",
       "    </tr>\n",
       "    <tr>\n",
       "      <th>3</th>\n",
       "      <td>6</td>\n",
       "      <td>null</td>\n",
       "      <td>NaN</td>\n",
       "      <td>people receive wildfire evacuation order calif...</td>\n",
       "      <td>1</td>\n",
       "      <td>people receive wildfire evacuation order calif...</td>\n",
       "    </tr>\n",
       "    <tr>\n",
       "      <th>4</th>\n",
       "      <td>7</td>\n",
       "      <td>null</td>\n",
       "      <td>NaN</td>\n",
       "      <td>got send photo alaska smoke wildfire pour school</td>\n",
       "      <td>1</td>\n",
       "      <td>got send photo alaska smoke wildfire pour scho...</td>\n",
       "    </tr>\n",
       "  </tbody>\n",
       "</table>\n",
       "</div>"
      ],
      "text/plain": [
       "   id keyword location                                               text  \\\n",
       "0   1    null      NaN                    reason earthquake allah forgive   \n",
       "1   4    null      NaN                         forest fire near la canada   \n",
       "2   5    null      NaN  resident ask shelter place officer evacuation ...   \n",
       "3   6    null      NaN  people receive wildfire evacuation order calif...   \n",
       "4   7    null      NaN   got send photo alaska smoke wildfire pour school   \n",
       "\n",
       "   target                                           combined  \n",
       "0       1               reason earthquake allah forgive null  \n",
       "1       1                    forest fire near la canada null  \n",
       "2       1  resident ask shelter place officer evacuation ...  \n",
       "3       1  people receive wildfire evacuation order calif...  \n",
       "4       1  got send photo alaska smoke wildfire pour scho...  "
      ]
     },
     "execution_count": 54,
     "metadata": {},
     "output_type": "execute_result"
    }
   ],
   "source": [
    "df.head()"
   ]
  },
  {
   "cell_type": "markdown",
   "id": "4bf019ba",
   "metadata": {},
   "source": [
    "## Generating Independent and dependent feature"
   ]
  },
  {
   "cell_type": "code",
   "execution_count": 99,
   "id": "bd1cbb0e",
   "metadata": {},
   "outputs": [],
   "source": [
    "tf_idf=TfidfVectorizer()\n",
    "X=tf_idf.fit_transform(df['text'])\n",
    "X=X.toarray()"
   ]
  },
  {
   "cell_type": "code",
   "execution_count": 100,
   "id": "f872a6a3",
   "metadata": {},
   "outputs": [],
   "source": [
    "y=df['target']"
   ]
  },
  {
   "cell_type": "code",
   "execution_count": 95,
   "id": "720a28c7",
   "metadata": {},
   "outputs": [],
   "source": [
    "# train_test split\n",
    "X_train, X_test, y_train, y_test = train_test_split(\\\n",
    "X, y, test_size=0.2, random_state=42)"
   ]
  },
  {
   "cell_type": "markdown",
   "id": "ba5c06e3",
   "metadata": {},
   "source": [
    "## Model building\n",
    "### RandomForestClassifer"
   ]
  },
  {
   "cell_type": "code",
   "execution_count": 89,
   "id": "433ed45a",
   "metadata": {},
   "outputs": [
    {
     "data": {
      "text/plain": [
       "RandomForestClassifier()"
      ]
     },
     "execution_count": 89,
     "metadata": {},
     "output_type": "execute_result"
    }
   ],
   "source": [
    "model_rf=RandomForestClassifier()\n",
    "model_rf.fit(X_train,y_train)"
   ]
  },
  {
   "cell_type": "markdown",
   "id": "72c39641",
   "metadata": {},
   "source": [
    "#### Making Prediction"
   ]
  },
  {
   "cell_type": "code",
   "execution_count": 90,
   "id": "59bbe1df",
   "metadata": {},
   "outputs": [],
   "source": [
    "pred_prob_rf=model_rf.predict_proba(X_test)[:,1]"
   ]
  },
  {
   "cell_type": "code",
   "execution_count": 91,
   "id": "00a853d6",
   "metadata": {},
   "outputs": [],
   "source": [
    "fpr, tpr, thresholds = roc_curve(y_test, pred_prob_rf)"
   ]
  },
  {
   "cell_type": "markdown",
   "id": "76cb00f0",
   "metadata": {},
   "source": [
    "#### To find the best threshold based on roc"
   ]
  },
  {
   "cell_type": "code",
   "execution_count": 92,
   "id": "fb97bebc",
   "metadata": {},
   "outputs": [
    {
     "data": {
      "text/html": [
       "<div>\n",
       "<style scoped>\n",
       "    .dataframe tbody tr th:only-of-type {\n",
       "        vertical-align: middle;\n",
       "    }\n",
       "\n",
       "    .dataframe tbody tr th {\n",
       "        vertical-align: top;\n",
       "    }\n",
       "\n",
       "    .dataframe thead th {\n",
       "        text-align: right;\n",
       "    }\n",
       "</style>\n",
       "<table border=\"1\" class=\"dataframe\">\n",
       "  <thead>\n",
       "    <tr style=\"text-align: right;\">\n",
       "      <th></th>\n",
       "      <th>thresholds</th>\n",
       "      <th>f1_score</th>\n",
       "    </tr>\n",
       "  </thead>\n",
       "  <tbody>\n",
       "    <tr>\n",
       "      <th>198</th>\n",
       "      <td>0.319238</td>\n",
       "      <td>0.739785</td>\n",
       "    </tr>\n",
       "    <tr>\n",
       "      <th>199</th>\n",
       "      <td>0.313333</td>\n",
       "      <td>0.739099</td>\n",
       "    </tr>\n",
       "    <tr>\n",
       "      <th>200</th>\n",
       "      <td>0.310000</td>\n",
       "      <td>0.738571</td>\n",
       "    </tr>\n",
       "    <tr>\n",
       "      <th>197</th>\n",
       "      <td>0.320000</td>\n",
       "      <td>0.736311</td>\n",
       "    </tr>\n",
       "    <tr>\n",
       "      <th>196</th>\n",
       "      <td>0.321429</td>\n",
       "      <td>0.735400</td>\n",
       "    </tr>\n",
       "  </tbody>\n",
       "</table>\n",
       "</div>"
      ],
      "text/plain": [
       "     thresholds  f1_score\n",
       "198    0.319238  0.739785\n",
       "199    0.313333  0.739099\n",
       "200    0.310000  0.738571\n",
       "197    0.320000  0.736311\n",
       "196    0.321429  0.735400"
      ]
     },
     "execution_count": 92,
     "metadata": {},
     "output_type": "execute_result"
    }
   ],
   "source": [
    "f1_score_ = []\n",
    "for thres in thresholds:\n",
    "    y_pred = np.where(pred_prob_rf>thres,1,0)\n",
    "    f1_score_.append(f1_score(y_test, y_pred))\n",
    "    \n",
    "f1_score_ = pd.concat([pd.Series(thresholds), pd.Series(f1_score_)],\n",
    "                        axis=1)\n",
    "f1_score_.columns = ['thresholds', 'f1_score']\n",
    "f1_score_.sort_values(by='f1_score', ascending=False, inplace=True)\n",
    "f1_score_.head()"
   ]
  },
  {
   "cell_type": "code",
   "execution_count": 63,
   "id": "5481cf1a",
   "metadata": {},
   "outputs": [],
   "source": [
    "pred_rf=np.where(pred_prob_rf>0.310667,1,0)"
   ]
  },
  {
   "cell_type": "markdown",
   "id": "3b99f19f",
   "metadata": {},
   "source": [
    "#### Metrics"
   ]
  },
  {
   "cell_type": "code",
   "execution_count": 64,
   "id": "85144e1c",
   "metadata": {},
   "outputs": [
    {
     "name": "stdout",
     "output_type": "stream",
     "text": [
      "Test roc_auc_score = 0.7632697533260402\n",
      "Test f1_score = 0.7411598302687411\n",
      "Test Accuracy= 0.7590520078999342\n"
     ]
    },
    {
     "data": {
      "text/html": [
       "<div>\n",
       "<style scoped>\n",
       "    .dataframe tbody tr th:only-of-type {\n",
       "        vertical-align: middle;\n",
       "    }\n",
       "\n",
       "    .dataframe tbody tr th {\n",
       "        vertical-align: top;\n",
       "    }\n",
       "\n",
       "    .dataframe thead th {\n",
       "        text-align: right;\n",
       "    }\n",
       "</style>\n",
       "<table border=\"1\" class=\"dataframe\">\n",
       "  <thead>\n",
       "    <tr style=\"text-align: right;\">\n",
       "      <th></th>\n",
       "      <th>Predicted Negative</th>\n",
       "      <th>Predicted Positive</th>\n",
       "    </tr>\n",
       "  </thead>\n",
       "  <tbody>\n",
       "    <tr>\n",
       "      <th>Actual Negative</th>\n",
       "      <td>629</td>\n",
       "      <td>231</td>\n",
       "    </tr>\n",
       "    <tr>\n",
       "      <th>Actual Positive</th>\n",
       "      <td>135</td>\n",
       "      <td>524</td>\n",
       "    </tr>\n",
       "  </tbody>\n",
       "</table>\n",
       "</div>"
      ],
      "text/plain": [
       "                 Predicted Negative  Predicted Positive\n",
       "Actual Negative                 629                 231\n",
       "Actual Positive                 135                 524"
      ]
     },
     "execution_count": 64,
     "metadata": {},
     "output_type": "execute_result"
    }
   ],
   "source": [
    "print(\"Test roc_auc_score = {}\".format(roc_auc_score(y_test,pred_rf)))\n",
    "print(\"Test f1_score = {}\".format(f1_score(y_test,pred_rf)))\n",
    "print(\"Test Accuracy= {}\".format(accuracy_score(y_test,pred_rf)))\n",
    "pd.DataFrame(confusion_matrix(y_test,pred_rf),\\\n",
    "             columns=['Predicted Negative', 'Predicted Positive'],\\\n",
    "             index=['Actual Negative', 'Actual Positive'])  "
   ]
  },
  {
   "cell_type": "code",
   "execution_count": 27,
   "id": "ab48cf4d",
   "metadata": {},
   "outputs": [
    {
     "data": {
      "text/plain": [
       "array([3.12841410e-05, 2.44260340e-04, 4.81202750e-04, ...,\n",
       "       2.83582806e-04, 1.41052678e-09, 1.42862945e-08])"
      ]
     },
     "execution_count": 27,
     "metadata": {},
     "output_type": "execute_result"
    }
   ],
   "source": [
    "model_rf.feature_importances_"
   ]
  },
  {
   "cell_type": "markdown",
   "id": "0ee7e03e",
   "metadata": {},
   "source": [
    "# ---------------------------------------------------------------------------------------------------------------"
   ]
  },
  {
   "cell_type": "markdown",
   "id": "16dc772a",
   "metadata": {},
   "source": [
    "### ExtratreeClassifer"
   ]
  },
  {
   "cell_type": "code",
   "execution_count": 65,
   "id": "3849713e",
   "metadata": {},
   "outputs": [
    {
     "data": {
      "text/plain": [
       "ExtraTreesClassifier()"
      ]
     },
     "execution_count": 65,
     "metadata": {},
     "output_type": "execute_result"
    }
   ],
   "source": [
    "model_et=ExtraTreesClassifier()\n",
    "model_et.fit(X_train,y_train)"
   ]
  },
  {
   "cell_type": "markdown",
   "id": "cacb2da9",
   "metadata": {},
   "source": [
    "#### Making Prediction"
   ]
  },
  {
   "cell_type": "code",
   "execution_count": 66,
   "id": "bbe08c9a",
   "metadata": {},
   "outputs": [],
   "source": [
    "pred_prob_et=model_et.predict_proba(X_test)[:,1]"
   ]
  },
  {
   "cell_type": "code",
   "execution_count": 67,
   "id": "638deb32",
   "metadata": {},
   "outputs": [],
   "source": [
    "fpr, tpr, thresholds = roc_curve(y_test, pred_prob_et)"
   ]
  },
  {
   "cell_type": "markdown",
   "id": "b8f75d1b",
   "metadata": {},
   "source": [
    "#### To find the best threshold based on roc"
   ]
  },
  {
   "cell_type": "code",
   "execution_count": 69,
   "id": "8275a2b6",
   "metadata": {},
   "outputs": [
    {
     "data": {
      "text/html": [
       "<div>\n",
       "<style scoped>\n",
       "    .dataframe tbody tr th:only-of-type {\n",
       "        vertical-align: middle;\n",
       "    }\n",
       "\n",
       "    .dataframe tbody tr th {\n",
       "        vertical-align: top;\n",
       "    }\n",
       "\n",
       "    .dataframe thead th {\n",
       "        text-align: right;\n",
       "    }\n",
       "</style>\n",
       "<table border=\"1\" class=\"dataframe\">\n",
       "  <thead>\n",
       "    <tr style=\"text-align: right;\">\n",
       "      <th></th>\n",
       "      <th>thresholds</th>\n",
       "      <th>f1_score</th>\n",
       "    </tr>\n",
       "  </thead>\n",
       "  <tbody>\n",
       "    <tr>\n",
       "      <th>134</th>\n",
       "      <td>0.400000</td>\n",
       "      <td>0.739195</td>\n",
       "    </tr>\n",
       "    <tr>\n",
       "      <th>133</th>\n",
       "      <td>0.405000</td>\n",
       "      <td>0.738806</td>\n",
       "    </tr>\n",
       "    <tr>\n",
       "      <th>129</th>\n",
       "      <td>0.418571</td>\n",
       "      <td>0.737397</td>\n",
       "    </tr>\n",
       "    <tr>\n",
       "      <th>135</th>\n",
       "      <td>0.391667</td>\n",
       "      <td>0.737389</td>\n",
       "    </tr>\n",
       "    <tr>\n",
       "      <th>136</th>\n",
       "      <td>0.390000</td>\n",
       "      <td>0.736842</td>\n",
       "    </tr>\n",
       "  </tbody>\n",
       "</table>\n",
       "</div>"
      ],
      "text/plain": [
       "     thresholds  f1_score\n",
       "134    0.400000  0.739195\n",
       "133    0.405000  0.738806\n",
       "129    0.418571  0.737397\n",
       "135    0.391667  0.737389\n",
       "136    0.390000  0.736842"
      ]
     },
     "execution_count": 69,
     "metadata": {},
     "output_type": "execute_result"
    }
   ],
   "source": [
    "f1_score_ = []\n",
    "for thres in thresholds:\n",
    "    y_pred = np.where(pred_prob_et>thres,1,0)\n",
    "    f1_score_.append(f1_score(y_test, y_pred))\n",
    "    \n",
    "f1_score_ = pd.concat([pd.Series(thresholds), pd.Series(f1_score_)],\n",
    "                        axis=1)\n",
    "f1_score_.columns = ['thresholds', 'f1_score']\n",
    "f1_score_.sort_values(by='f1_score', ascending=False, inplace=True)\n",
    "f1_score_.head()"
   ]
  },
  {
   "cell_type": "code",
   "execution_count": 70,
   "id": "9cedd2b7",
   "metadata": {},
   "outputs": [],
   "source": [
    "pred_et=np.where(pred_prob_et>0.400000,1,0)"
   ]
  },
  {
   "cell_type": "markdown",
   "id": "abb0a1e1",
   "metadata": {},
   "source": [
    "#### Metrics"
   ]
  },
  {
   "cell_type": "code",
   "execution_count": 71,
   "id": "5276c791",
   "metadata": {},
   "outputs": [
    {
     "name": "stdout",
     "output_type": "stream",
     "text": [
      "Test roc_auc_score = 0.7676068391149381\n",
      "Test f1_score = 0.7391952309985097\n",
      "Test Accuracy= 0.7695852534562212\n"
     ]
    },
    {
     "data": {
      "text/html": [
       "<div>\n",
       "<style scoped>\n",
       "    .dataframe tbody tr th:only-of-type {\n",
       "        vertical-align: middle;\n",
       "    }\n",
       "\n",
       "    .dataframe tbody tr th {\n",
       "        vertical-align: top;\n",
       "    }\n",
       "\n",
       "    .dataframe thead th {\n",
       "        text-align: right;\n",
       "    }\n",
       "</style>\n",
       "<table border=\"1\" class=\"dataframe\">\n",
       "  <thead>\n",
       "    <tr style=\"text-align: right;\">\n",
       "      <th></th>\n",
       "      <th>Predicted Negative</th>\n",
       "      <th>Predicted Positive</th>\n",
       "    </tr>\n",
       "  </thead>\n",
       "  <tbody>\n",
       "    <tr>\n",
       "      <th>Actual Negative</th>\n",
       "      <td>673</td>\n",
       "      <td>187</td>\n",
       "    </tr>\n",
       "    <tr>\n",
       "      <th>Actual Positive</th>\n",
       "      <td>163</td>\n",
       "      <td>496</td>\n",
       "    </tr>\n",
       "  </tbody>\n",
       "</table>\n",
       "</div>"
      ],
      "text/plain": [
       "                 Predicted Negative  Predicted Positive\n",
       "Actual Negative                 673                 187\n",
       "Actual Positive                 163                 496"
      ]
     },
     "execution_count": 71,
     "metadata": {},
     "output_type": "execute_result"
    }
   ],
   "source": [
    "print(\"Test roc_auc_score = {}\".format(roc_auc_score(y_test,pred_et)))\n",
    "print(\"Test f1_score = {}\".format(f1_score(y_test,pred_et)))\n",
    "print(\"Test Accuracy= {}\".format(accuracy_score(y_test,pred_et)))\n",
    "pd.DataFrame(confusion_matrix(y_test,pred_et),\\\n",
    "             columns=['Predicted Negative', 'Predicted Positive'],\\\n",
    "             index=['Actual Negative', 'Actual Positive'])  "
   ]
  },
  {
   "cell_type": "markdown",
   "id": "519c8eda",
   "metadata": {},
   "source": [
    "# ---------------------------------------------------------------------------------------------------------------"
   ]
  },
  {
   "cell_type": "markdown",
   "id": "11b6ed27",
   "metadata": {},
   "source": [
    "### Light GBM"
   ]
  },
  {
   "cell_type": "code",
   "execution_count": 72,
   "id": "be4169ce",
   "metadata": {},
   "outputs": [
    {
     "data": {
      "text/plain": [
       "LGBMClassifier()"
      ]
     },
     "execution_count": 72,
     "metadata": {},
     "output_type": "execute_result"
    }
   ],
   "source": [
    "model_lgbm = lgb.LGBMClassifier()\n",
    "model_lgbm.fit(X_train,y_train)"
   ]
  },
  {
   "cell_type": "markdown",
   "id": "e051a944",
   "metadata": {},
   "source": [
    "#### Making Prediction"
   ]
  },
  {
   "cell_type": "code",
   "execution_count": 73,
   "id": "4ef9f501",
   "metadata": {},
   "outputs": [],
   "source": [
    "pred_prob_lgbm=model_lgbm.predict_proba(X_test)[:,1]"
   ]
  },
  {
   "cell_type": "code",
   "execution_count": 74,
   "id": "de90168c",
   "metadata": {},
   "outputs": [],
   "source": [
    "fpr, tpr, thresholds = roc_curve(y_test, pred_prob_lgbm)"
   ]
  },
  {
   "cell_type": "markdown",
   "id": "43446b99",
   "metadata": {},
   "source": [
    "#### To find the best threshold based on roc"
   ]
  },
  {
   "cell_type": "code",
   "execution_count": 75,
   "id": "ed78584e",
   "metadata": {},
   "outputs": [
    {
     "data": {
      "text/html": [
       "<div>\n",
       "<style scoped>\n",
       "    .dataframe tbody tr th:only-of-type {\n",
       "        vertical-align: middle;\n",
       "    }\n",
       "\n",
       "    .dataframe tbody tr th {\n",
       "        vertical-align: top;\n",
       "    }\n",
       "\n",
       "    .dataframe thead th {\n",
       "        text-align: right;\n",
       "    }\n",
       "</style>\n",
       "<table border=\"1\" class=\"dataframe\">\n",
       "  <thead>\n",
       "    <tr style=\"text-align: right;\">\n",
       "      <th></th>\n",
       "      <th>thresholds</th>\n",
       "      <th>f1_score</th>\n",
       "    </tr>\n",
       "  </thead>\n",
       "  <tbody>\n",
       "    <tr>\n",
       "      <th>305</th>\n",
       "      <td>0.357041</td>\n",
       "      <td>0.736689</td>\n",
       "    </tr>\n",
       "    <tr>\n",
       "      <th>304</th>\n",
       "      <td>0.357791</td>\n",
       "      <td>0.735766</td>\n",
       "    </tr>\n",
       "    <tr>\n",
       "      <th>303</th>\n",
       "      <td>0.361088</td>\n",
       "      <td>0.735380</td>\n",
       "    </tr>\n",
       "    <tr>\n",
       "      <th>302</th>\n",
       "      <td>0.362936</td>\n",
       "      <td>0.734993</td>\n",
       "    </tr>\n",
       "    <tr>\n",
       "      <th>301</th>\n",
       "      <td>0.364775</td>\n",
       "      <td>0.734604</td>\n",
       "    </tr>\n",
       "  </tbody>\n",
       "</table>\n",
       "</div>"
      ],
      "text/plain": [
       "     thresholds  f1_score\n",
       "305    0.357041  0.736689\n",
       "304    0.357791  0.735766\n",
       "303    0.361088  0.735380\n",
       "302    0.362936  0.734993\n",
       "301    0.364775  0.734604"
      ]
     },
     "execution_count": 75,
     "metadata": {},
     "output_type": "execute_result"
    }
   ],
   "source": [
    "f1_score_ = []\n",
    "for thres in thresholds:\n",
    "    y_pred = np.where(pred_prob_lgbm>thres,1,0)\n",
    "    f1_score_.append(f1_score(y_test, y_pred))\n",
    "    \n",
    "f1_score_ = pd.concat([pd.Series(thresholds), pd.Series(f1_score_)],\n",
    "                        axis=1)\n",
    "f1_score_.columns = ['thresholds', 'f1_score']\n",
    "f1_score_.sort_values(by='f1_score', ascending=False, inplace=True)\n",
    "f1_score_.head()"
   ]
  },
  {
   "cell_type": "code",
   "execution_count": 76,
   "id": "a3c819fd",
   "metadata": {},
   "outputs": [],
   "source": [
    "pred_lgbm=np.where(pred_prob_lgbm>0.357041,1,0)"
   ]
  },
  {
   "cell_type": "markdown",
   "id": "323f94f1",
   "metadata": {},
   "source": [
    "#### Metrics"
   ]
  },
  {
   "cell_type": "code",
   "execution_count": 77,
   "id": "f0c7d74a",
   "metadata": {},
   "outputs": [
    {
     "name": "stdout",
     "output_type": "stream",
     "text": [
      "Test roc_auc_score = 0.7628074602110315\n",
      "Test f1_score = 0.7366885485047411\n",
      "Test Accuracy= 0.7623436471362739\n"
     ]
    },
    {
     "data": {
      "text/html": [
       "<div>\n",
       "<style scoped>\n",
       "    .dataframe tbody tr th:only-of-type {\n",
       "        vertical-align: middle;\n",
       "    }\n",
       "\n",
       "    .dataframe tbody tr th {\n",
       "        vertical-align: top;\n",
       "    }\n",
       "\n",
       "    .dataframe thead th {\n",
       "        text-align: right;\n",
       "    }\n",
       "</style>\n",
       "<table border=\"1\" class=\"dataframe\">\n",
       "  <thead>\n",
       "    <tr style=\"text-align: right;\">\n",
       "      <th></th>\n",
       "      <th>Predicted Negative</th>\n",
       "      <th>Predicted Positive</th>\n",
       "    </tr>\n",
       "  </thead>\n",
       "  <tbody>\n",
       "    <tr>\n",
       "      <th>Actual Negative</th>\n",
       "      <td>653</td>\n",
       "      <td>207</td>\n",
       "    </tr>\n",
       "    <tr>\n",
       "      <th>Actual Positive</th>\n",
       "      <td>154</td>\n",
       "      <td>505</td>\n",
       "    </tr>\n",
       "  </tbody>\n",
       "</table>\n",
       "</div>"
      ],
      "text/plain": [
       "                 Predicted Negative  Predicted Positive\n",
       "Actual Negative                 653                 207\n",
       "Actual Positive                 154                 505"
      ]
     },
     "execution_count": 77,
     "metadata": {},
     "output_type": "execute_result"
    }
   ],
   "source": [
    "print(\"Test roc_auc_score = {}\".format(roc_auc_score(y_test,pred_lgbm)))\n",
    "print(\"Test f1_score = {}\".format(f1_score(y_test,pred_lgbm)))\n",
    "print(\"Test Accuracy= {}\".format(accuracy_score(y_test,pred_lgbm)))\n",
    "pd.DataFrame(confusion_matrix(y_test,pred_lgbm),\\\n",
    "             columns=['Predicted Negative', 'Predicted Positive'],\\\n",
    "             index=['Actual Negative', 'Actual Positive'])  "
   ]
  },
  {
   "cell_type": "markdown",
   "id": "1f6f1244",
   "metadata": {},
   "source": [
    "# ---------------------------------------------------------------------------------------------------------------"
   ]
  },
  {
   "cell_type": "markdown",
   "id": "daceff25",
   "metadata": {},
   "source": [
    "### SVC"
   ]
  },
  {
   "cell_type": "code",
   "execution_count": 78,
   "id": "94988387",
   "metadata": {},
   "outputs": [
    {
     "data": {
      "text/plain": [
       "SVC()"
      ]
     },
     "execution_count": 78,
     "metadata": {},
     "output_type": "execute_result"
    }
   ],
   "source": [
    "model_svc=SVC()\n",
    "model_svc.fit(X_train,y_train)"
   ]
  },
  {
   "cell_type": "markdown",
   "id": "b42ea841",
   "metadata": {},
   "source": [
    "#### Making Prediction"
   ]
  },
  {
   "cell_type": "code",
   "execution_count": 79,
   "id": "cd90b532",
   "metadata": {},
   "outputs": [],
   "source": [
    "pred_svc=model_svc.predict(X_test)"
   ]
  },
  {
   "cell_type": "markdown",
   "id": "5e4b497f",
   "metadata": {},
   "source": [
    "#### Metrics"
   ]
  },
  {
   "cell_type": "code",
   "execution_count": 80,
   "id": "3295a37c",
   "metadata": {
    "scrolled": true
   },
   "outputs": [
    {
     "name": "stdout",
     "output_type": "stream",
     "text": [
      "Test roc_auc_score = 0.7769903306630908\n",
      "Test f1_score = 0.7363184079601992\n",
      "Test Accuracy= 0.7906517445687953\n",
      "Classification report\n",
      "              precision    recall  f1-score   support\n",
      "\n",
      "           0       0.78      0.88      0.83       860\n",
      "           1       0.81      0.67      0.74       659\n",
      "\n",
      "    accuracy                           0.79      1519\n",
      "   macro avg       0.80      0.78      0.78      1519\n",
      "weighted avg       0.79      0.79      0.79      1519\n",
      "\n"
     ]
    },
    {
     "data": {
      "text/html": [
       "<div>\n",
       "<style scoped>\n",
       "    .dataframe tbody tr th:only-of-type {\n",
       "        vertical-align: middle;\n",
       "    }\n",
       "\n",
       "    .dataframe tbody tr th {\n",
       "        vertical-align: top;\n",
       "    }\n",
       "\n",
       "    .dataframe thead th {\n",
       "        text-align: right;\n",
       "    }\n",
       "</style>\n",
       "<table border=\"1\" class=\"dataframe\">\n",
       "  <thead>\n",
       "    <tr style=\"text-align: right;\">\n",
       "      <th></th>\n",
       "      <th>Predicted Negative</th>\n",
       "      <th>Predicted Positive</th>\n",
       "    </tr>\n",
       "  </thead>\n",
       "  <tbody>\n",
       "    <tr>\n",
       "      <th>Actual Negative</th>\n",
       "      <td>757</td>\n",
       "      <td>103</td>\n",
       "    </tr>\n",
       "    <tr>\n",
       "      <th>Actual Positive</th>\n",
       "      <td>215</td>\n",
       "      <td>444</td>\n",
       "    </tr>\n",
       "  </tbody>\n",
       "</table>\n",
       "</div>"
      ],
      "text/plain": [
       "                 Predicted Negative  Predicted Positive\n",
       "Actual Negative                 757                 103\n",
       "Actual Positive                 215                 444"
      ]
     },
     "execution_count": 80,
     "metadata": {},
     "output_type": "execute_result"
    }
   ],
   "source": [
    "print(\"Test roc_auc_score = {}\".format(roc_auc_score(y_test,pred_svc)))\n",
    "print(\"Test f1_score = {}\".format(f1_score(y_test,pred_svc)))\n",
    "print(\"Test Accuracy= {}\".format(accuracy_score(y_test,pred_svc)))\n",
    "print(\"Classification report\\n{}\".format(classification_report(y_test,pred_svc)))\n",
    "pd.DataFrame(confusion_matrix(y_test,pred_svc),\\\n",
    "             columns=['Predicted Negative', 'Predicted Positive'],\\\n",
    "             index=['Actual Negative', 'Actual Positive'])"
   ]
  },
  {
   "cell_type": "markdown",
   "id": "ef26312a",
   "metadata": {},
   "source": [
    "# ---------------------------------------------------------------------------------------------------------------"
   ]
  },
  {
   "cell_type": "markdown",
   "id": "5a32a7d9",
   "metadata": {},
   "source": [
    "## Submission"
   ]
  },
  {
   "cell_type": "code",
   "execution_count": 101,
   "id": "25fa8794",
   "metadata": {},
   "outputs": [
    {
     "data": {
      "text/plain": [
       "SVC()"
      ]
     },
     "execution_count": 101,
     "metadata": {},
     "output_type": "execute_result"
    }
   ],
   "source": [
    "model_final=SVC()\n",
    "model_final.fit(X,y)"
   ]
  },
  {
   "cell_type": "code",
   "execution_count": 102,
   "id": "f2bca22e",
   "metadata": {},
   "outputs": [],
   "source": [
    "### Saving Model and Vectorizer\n",
    "pickle.dump(model_final, open('model_SVC.pkl', 'wb'))\n",
    "pickle.dump(tf_idf,open('Vectorizer_tfidf.pkl', 'wb'))"
   ]
  },
  {
   "cell_type": "code",
   "execution_count": null,
   "id": "b23aa7d0",
   "metadata": {},
   "outputs": [],
   "source": []
  },
  {
   "cell_type": "code",
   "execution_count": null,
   "id": "f88e9a18",
   "metadata": {},
   "outputs": [],
   "source": []
  }
 ],
 "metadata": {
  "kernelspec": {
   "display_name": "Python 3",
   "language": "python",
   "name": "python3"
  },
  "language_info": {
   "codemirror_mode": {
    "name": "ipython",
    "version": 3
   },
   "file_extension": ".py",
   "mimetype": "text/x-python",
   "name": "python",
   "nbconvert_exporter": "python",
   "pygments_lexer": "ipython3",
   "version": "3.8.4"
  }
 },
 "nbformat": 4,
 "nbformat_minor": 5
}
