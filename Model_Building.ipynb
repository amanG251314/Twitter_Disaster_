{
 "cells": [
  {
   "cell_type": "code",
   "execution_count": 16,
   "id": "00ebd87a",
   "metadata": {},
   "outputs": [],
   "source": [
    "import numpy as np\n",
    "import pandas as pd \n",
    "\n",
    "import seaborn as sns\n",
    "import matplotlib.pyplot as plt\n",
    "sns.set_theme()\n",
    "\n",
    "from sklearn.feature_extraction.text import TfidfVectorizer\n",
    "from sklearn.model_selection import train_test_split \n",
    "\n",
    "from sklearn.ensemble import RandomForestClassifier\n",
    "from sklearn.svm import SVC\n",
    "\n",
    "from sklearn.metrics import accuracy_score, confusion_matrix,classification_report,roc_auc_score,roc_curve\n",
    "from sklearn.pipeline import Pipeline\n",
    "\n",
    "import pickle"
   ]
  },
  {
   "cell_type": "code",
   "execution_count": 9,
   "id": "f28f5ee7",
   "metadata": {},
   "outputs": [],
   "source": [
    "df=pd.read_csv('dataset/train_preprocessed_prelim.csv')"
   ]
  },
  {
   "cell_type": "code",
   "execution_count": 10,
   "id": "811b46c4",
   "metadata": {},
   "outputs": [
    {
     "data": {
      "text/html": [
       "<div>\n",
       "<style scoped>\n",
       "    .dataframe tbody tr th:only-of-type {\n",
       "        vertical-align: middle;\n",
       "    }\n",
       "\n",
       "    .dataframe tbody tr th {\n",
       "        vertical-align: top;\n",
       "    }\n",
       "\n",
       "    .dataframe thead th {\n",
       "        text-align: right;\n",
       "    }\n",
       "</style>\n",
       "<table border=\"1\" class=\"dataframe\">\n",
       "  <thead>\n",
       "    <tr style=\"text-align: right;\">\n",
       "      <th></th>\n",
       "      <th>keyword</th>\n",
       "      <th>location</th>\n",
       "      <th>text</th>\n",
       "      <th>target</th>\n",
       "      <th>Word_Count</th>\n",
       "      <th>Character_count</th>\n",
       "      <th>StopWord_Count</th>\n",
       "      <th>Mention_count</th>\n",
       "      <th>Hashtag_count</th>\n",
       "      <th>Numerics_Count</th>\n",
       "      <th>Upper_Count</th>\n",
       "      <th>emails</th>\n",
       "      <th>email_Count</th>\n",
       "      <th>url_flag</th>\n",
       "      <th>Retweet_flag</th>\n",
       "    </tr>\n",
       "  </thead>\n",
       "  <tbody>\n",
       "    <tr>\n",
       "      <th>0</th>\n",
       "      <td>Missing</td>\n",
       "      <td>Missing</td>\n",
       "      <td>deed reason earthquake allah forgive</td>\n",
       "      <td>1</td>\n",
       "      <td>13</td>\n",
       "      <td>57</td>\n",
       "      <td>6</td>\n",
       "      <td>0</td>\n",
       "      <td>1</td>\n",
       "      <td>0</td>\n",
       "      <td>1</td>\n",
       "      <td>[]</td>\n",
       "      <td>0</td>\n",
       "      <td>0</td>\n",
       "      <td>0</td>\n",
       "    </tr>\n",
       "    <tr>\n",
       "      <th>1</th>\n",
       "      <td>Missing</td>\n",
       "      <td>Missing</td>\n",
       "      <td>forest fire near la canada</td>\n",
       "      <td>1</td>\n",
       "      <td>7</td>\n",
       "      <td>32</td>\n",
       "      <td>0</td>\n",
       "      <td>0</td>\n",
       "      <td>0</td>\n",
       "      <td>0</td>\n",
       "      <td>0</td>\n",
       "      <td>[]</td>\n",
       "      <td>0</td>\n",
       "      <td>0</td>\n",
       "      <td>0</td>\n",
       "    </tr>\n",
       "  </tbody>\n",
       "</table>\n",
       "</div>"
      ],
      "text/plain": [
       "   keyword location                                  text  target  Word_Count  \\\n",
       "0  Missing  Missing  deed reason earthquake allah forgive       1          13   \n",
       "1  Missing  Missing            forest fire near la canada       1           7   \n",
       "\n",
       "   Character_count  StopWord_Count  Mention_count  Hashtag_count  \\\n",
       "0               57               6              0              1   \n",
       "1               32               0              0              0   \n",
       "\n",
       "   Numerics_Count  Upper_Count emails  email_Count  url_flag  Retweet_flag  \n",
       "0               0            1     []            0         0             0  \n",
       "1               0            0     []            0         0             0  "
      ]
     },
     "execution_count": 10,
     "metadata": {},
     "output_type": "execute_result"
    }
   ],
   "source": [
    "df.head(2)"
   ]
  },
  {
   "cell_type": "markdown",
   "id": "3af3101d",
   "metadata": {},
   "source": [
    "## Generating Independent and dependent feature"
   ]
  },
  {
   "cell_type": "code",
   "execution_count": 11,
   "id": "0d026c9d",
   "metadata": {},
   "outputs": [],
   "source": [
    "tf_idf=TfidfVectorizer()\n",
    "X=tf_idf.fit_transform(df['text'])\n",
    "X=X.toarray()"
   ]
  },
  {
   "cell_type": "code",
   "execution_count": 12,
   "id": "670ba70d",
   "metadata": {},
   "outputs": [],
   "source": [
    "y=df['target']"
   ]
  },
  {
   "cell_type": "code",
   "execution_count": 13,
   "id": "26313449",
   "metadata": {},
   "outputs": [],
   "source": [
    "# train_test split\n",
    "X_train, X_test, y_train, y_test = train_test_split(\\\n",
    "X, y, test_size=0.2, random_state=42)"
   ]
  },
  {
   "cell_type": "markdown",
   "id": "d324764c",
   "metadata": {},
   "source": [
    "## Model building\n",
    "### RandomForestClassifer"
   ]
  },
  {
   "cell_type": "code",
   "execution_count": 10,
   "id": "4f1739f9",
   "metadata": {},
   "outputs": [
    {
     "data": {
      "text/plain": [
       "RandomForestClassifier()"
      ]
     },
     "execution_count": 10,
     "metadata": {},
     "output_type": "execute_result"
    }
   ],
   "source": [
    "model_rf=RandomForestClassifier()\n",
    "model_rf.fit(X_train,y_train)"
   ]
  },
  {
   "cell_type": "markdown",
   "id": "d66693af",
   "metadata": {},
   "source": [
    "#### Making Prediction"
   ]
  },
  {
   "cell_type": "code",
   "execution_count": 11,
   "id": "96404ea7",
   "metadata": {},
   "outputs": [],
   "source": [
    "pred_prob_rf=model_rf.predict_proba(X_test)[:,1]"
   ]
  },
  {
   "cell_type": "code",
   "execution_count": 12,
   "id": "305bc57e",
   "metadata": {},
   "outputs": [],
   "source": [
    "fpr, tpr, thresholds = roc_curve(y_test, pred_prob_rf)"
   ]
  },
  {
   "cell_type": "markdown",
   "id": "f52d2caa",
   "metadata": {},
   "source": [
    "#### To find the best threshold based on roc"
   ]
  },
  {
   "cell_type": "code",
   "execution_count": 13,
   "id": "35439ff5",
   "metadata": {},
   "outputs": [
    {
     "data": {
      "text/html": [
       "<div>\n",
       "<style scoped>\n",
       "    .dataframe tbody tr th:only-of-type {\n",
       "        vertical-align: middle;\n",
       "    }\n",
       "\n",
       "    .dataframe tbody tr th {\n",
       "        vertical-align: top;\n",
       "    }\n",
       "\n",
       "    .dataframe thead th {\n",
       "        text-align: right;\n",
       "    }\n",
       "</style>\n",
       "<table border=\"1\" class=\"dataframe\">\n",
       "  <thead>\n",
       "    <tr style=\"text-align: right;\">\n",
       "      <th></th>\n",
       "      <th>thresholds</th>\n",
       "      <th>roc_auc_score</th>\n",
       "    </tr>\n",
       "  </thead>\n",
       "  <tbody>\n",
       "    <tr>\n",
       "      <th>125</th>\n",
       "      <td>0.540000</td>\n",
       "      <td>0.763202</td>\n",
       "    </tr>\n",
       "    <tr>\n",
       "      <th>123</th>\n",
       "      <td>0.546667</td>\n",
       "      <td>0.763004</td>\n",
       "    </tr>\n",
       "    <tr>\n",
       "      <th>124</th>\n",
       "      <td>0.545000</td>\n",
       "      <td>0.762431</td>\n",
       "    </tr>\n",
       "    <tr>\n",
       "      <th>122</th>\n",
       "      <td>0.547500</td>\n",
       "      <td>0.762232</td>\n",
       "    </tr>\n",
       "    <tr>\n",
       "      <th>120</th>\n",
       "      <td>0.554000</td>\n",
       "      <td>0.760866</td>\n",
       "    </tr>\n",
       "  </tbody>\n",
       "</table>\n",
       "</div>"
      ],
      "text/plain": [
       "     thresholds  roc_auc_score\n",
       "125    0.540000       0.763202\n",
       "123    0.546667       0.763004\n",
       "124    0.545000       0.762431\n",
       "122    0.547500       0.762232\n",
       "120    0.554000       0.760866"
      ]
     },
     "execution_count": 13,
     "metadata": {},
     "output_type": "execute_result"
    }
   ],
   "source": [
    "roc_auc_score_ = []\n",
    "for thres in thresholds:\n",
    "    y_pred = np.where(pred_prob_rf>thres,1,0)\n",
    "    roc_auc_score_.append(roc_auc_score(y_test, y_pred))\n",
    "    \n",
    "roc_auc_score_ = pd.concat([pd.Series(thresholds), pd.Series(roc_auc_score_)],\n",
    "                        axis=1)\n",
    "roc_auc_score_.columns = ['thresholds', 'roc_auc_score']\n",
    "roc_auc_score_.sort_values(by='roc_auc_score', ascending=False, inplace=True)\n",
    "roc_auc_score_.head()"
   ]
  },
  {
   "cell_type": "code",
   "execution_count": 16,
   "id": "9c7f8da6",
   "metadata": {},
   "outputs": [],
   "source": [
    "pred_rf=np.where(pred_prob_rf>0.540000,1,0)"
   ]
  },
  {
   "cell_type": "markdown",
   "id": "72369ec7",
   "metadata": {},
   "source": [
    "#### Metrics"
   ]
  },
  {
   "cell_type": "code",
   "execution_count": 17,
   "id": "730904ba",
   "metadata": {},
   "outputs": [
    {
     "name": "stdout",
     "output_type": "stream",
     "text": [
      "Test roc_auc_score = 0.7632022312832711\n",
      "Test Accuracy= 0.7769736842105263\n"
     ]
    },
    {
     "data": {
      "text/html": [
       "<div>\n",
       "<style scoped>\n",
       "    .dataframe tbody tr th:only-of-type {\n",
       "        vertical-align: middle;\n",
       "    }\n",
       "\n",
       "    .dataframe tbody tr th {\n",
       "        vertical-align: top;\n",
       "    }\n",
       "\n",
       "    .dataframe thead th {\n",
       "        text-align: right;\n",
       "    }\n",
       "</style>\n",
       "<table border=\"1\" class=\"dataframe\">\n",
       "  <thead>\n",
       "    <tr style=\"text-align: right;\">\n",
       "      <th></th>\n",
       "      <th>Predicted Negative</th>\n",
       "      <th>Predicted Positive</th>\n",
       "    </tr>\n",
       "  </thead>\n",
       "  <tbody>\n",
       "    <tr>\n",
       "      <th>Actual Negative</th>\n",
       "      <td>747</td>\n",
       "      <td>125</td>\n",
       "    </tr>\n",
       "    <tr>\n",
       "      <th>Actual Positive</th>\n",
       "      <td>214</td>\n",
       "      <td>434</td>\n",
       "    </tr>\n",
       "  </tbody>\n",
       "</table>\n",
       "</div>"
      ],
      "text/plain": [
       "                 Predicted Negative  Predicted Positive\n",
       "Actual Negative                 747                 125\n",
       "Actual Positive                 214                 434"
      ]
     },
     "execution_count": 17,
     "metadata": {},
     "output_type": "execute_result"
    }
   ],
   "source": [
    "print(\"Test roc_auc_score = {}\".format(roc_auc_score(y_test,pred_rf)))\n",
    "print(\"Test Accuracy= {}\".format(accuracy_score(y_test,pred_rf)))\n",
    "pd.DataFrame(confusion_matrix(y_test,pred_rf),\\\n",
    "             columns=['Predicted Negative', 'Predicted Positive'],\\\n",
    "             index=['Actual Negative', 'Actual Positive'])  "
   ]
  },
  {
   "cell_type": "markdown",
   "id": "af4ebbd6",
   "metadata": {},
   "source": [
    "### SVC"
   ]
  },
  {
   "cell_type": "code",
   "execution_count": 13,
   "id": "64c0c774",
   "metadata": {},
   "outputs": [
    {
     "data": {
      "text/plain": [
       "SVC()"
      ]
     },
     "execution_count": 13,
     "metadata": {},
     "output_type": "execute_result"
    }
   ],
   "source": [
    "model_svc=SVC()\n",
    "model_svc.fit(X_train,y_train)"
   ]
  },
  {
   "cell_type": "markdown",
   "id": "62a2f09d",
   "metadata": {},
   "source": [
    "#### Making Prediction"
   ]
  },
  {
   "cell_type": "code",
   "execution_count": 18,
   "id": "40036d8a",
   "metadata": {},
   "outputs": [],
   "source": [
    "pred_svc=model_svc.predict(X_test)"
   ]
  },
  {
   "cell_type": "markdown",
   "id": "99f51c2a",
   "metadata": {},
   "source": [
    "#### Metrics"
   ]
  },
  {
   "cell_type": "code",
   "execution_count": 19,
   "id": "421f70a2",
   "metadata": {},
   "outputs": [
    {
     "name": "stdout",
     "output_type": "stream",
     "text": [
      "Test roc_auc_score = 0.7812889341941329\n",
      "Test Accuracy= 0.8\n",
      "Classification report\n",
      "              precision    recall  f1-score   support\n",
      "\n",
      "           0       0.78      0.91      0.84       872\n",
      "           1       0.84      0.65      0.74       648\n",
      "\n",
      "    accuracy                           0.80      1520\n",
      "   macro avg       0.81      0.78      0.79      1520\n",
      "weighted avg       0.81      0.80      0.80      1520\n",
      "\n"
     ]
    },
    {
     "data": {
      "text/html": [
       "<div>\n",
       "<style scoped>\n",
       "    .dataframe tbody tr th:only-of-type {\n",
       "        vertical-align: middle;\n",
       "    }\n",
       "\n",
       "    .dataframe tbody tr th {\n",
       "        vertical-align: top;\n",
       "    }\n",
       "\n",
       "    .dataframe thead th {\n",
       "        text-align: right;\n",
       "    }\n",
       "</style>\n",
       "<table border=\"1\" class=\"dataframe\">\n",
       "  <thead>\n",
       "    <tr style=\"text-align: right;\">\n",
       "      <th></th>\n",
       "      <th>Predicted Negative</th>\n",
       "      <th>Predicted Positive</th>\n",
       "    </tr>\n",
       "  </thead>\n",
       "  <tbody>\n",
       "    <tr>\n",
       "      <th>Actual Negative</th>\n",
       "      <td>792</td>\n",
       "      <td>80</td>\n",
       "    </tr>\n",
       "    <tr>\n",
       "      <th>Actual Positive</th>\n",
       "      <td>224</td>\n",
       "      <td>424</td>\n",
       "    </tr>\n",
       "  </tbody>\n",
       "</table>\n",
       "</div>"
      ],
      "text/plain": [
       "                 Predicted Negative  Predicted Positive\n",
       "Actual Negative                 792                  80\n",
       "Actual Positive                 224                 424"
      ]
     },
     "execution_count": 19,
     "metadata": {},
     "output_type": "execute_result"
    }
   ],
   "source": [
    "print(\"Test roc_auc_score = {}\".format(roc_auc_score(y_test,pred_svc)))\n",
    "print(\"Test Accuracy= {}\".format(accuracy_score(y_test,pred_svc)))\n",
    "print(\"Classification report\\n{}\".format(classification_report(y_test,pred_svc)))\n",
    "pd.DataFrame(confusion_matrix(y_test,pred_svc),\\\n",
    "             columns=['Predicted Negative', 'Predicted Positive'],\\\n",
    "             index=['Actual Negative', 'Actual Positive'])  "
   ]
  },
  {
   "cell_type": "markdown",
   "id": "235983ec",
   "metadata": {},
   "source": [
    "## Submission"
   ]
  },
  {
   "cell_type": "code",
   "execution_count": 14,
   "id": "919ed703",
   "metadata": {},
   "outputs": [
    {
     "data": {
      "text/plain": [
       "SVC()"
      ]
     },
     "execution_count": 14,
     "metadata": {},
     "output_type": "execute_result"
    }
   ],
   "source": [
    "model_final=SVC()\n",
    "model_final.fit(X,y)"
   ]
  },
  {
   "cell_type": "code",
   "execution_count": 17,
   "id": "7d350df5",
   "metadata": {},
   "outputs": [],
   "source": [
    "### Saving Model and Vectorizer\n",
    "pickle.dump(model_final, open('model_SVC.pkl', 'wb'))\n",
    "pickle.dump(tf_idf,open('Vectorizer_tfidf.pkl', 'wb'))"
   ]
  },
  {
   "cell_type": "code",
   "execution_count": null,
   "id": "c6db9fcf",
   "metadata": {},
   "outputs": [],
   "source": []
  }
 ],
 "metadata": {
  "kernelspec": {
   "display_name": "Python 3",
   "language": "python",
   "name": "python3"
  },
  "language_info": {
   "codemirror_mode": {
    "name": "ipython",
    "version": 3
   },
   "file_extension": ".py",
   "mimetype": "text/x-python",
   "name": "python",
   "nbconvert_exporter": "python",
   "pygments_lexer": "ipython3",
   "version": "3.8.4"
  }
 },
 "nbformat": 4,
 "nbformat_minor": 5
}
