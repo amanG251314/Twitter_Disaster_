{
 "cells": [
  {
   "cell_type": "code",
   "execution_count": 1,
   "id": "11a3168f",
   "metadata": {},
   "outputs": [],
   "source": [
    "import numpy as np\n",
    "import pandas as pd\n",
    "import preprocessing as pu\n",
    "import pickle"
   ]
  },
  {
   "cell_type": "code",
   "execution_count": 2,
   "id": "5aa0f2ca",
   "metadata": {},
   "outputs": [],
   "source": [
    "df=pd.read_csv('dataset/test.csv')"
   ]
  },
  {
   "cell_type": "code",
   "execution_count": 3,
   "id": "695ac891",
   "metadata": {},
   "outputs": [
    {
     "data": {
      "text/html": [
       "<div>\n",
       "<style scoped>\n",
       "    .dataframe tbody tr th:only-of-type {\n",
       "        vertical-align: middle;\n",
       "    }\n",
       "\n",
       "    .dataframe tbody tr th {\n",
       "        vertical-align: top;\n",
       "    }\n",
       "\n",
       "    .dataframe thead th {\n",
       "        text-align: right;\n",
       "    }\n",
       "</style>\n",
       "<table border=\"1\" class=\"dataframe\">\n",
       "  <thead>\n",
       "    <tr style=\"text-align: right;\">\n",
       "      <th></th>\n",
       "      <th>id</th>\n",
       "      <th>keyword</th>\n",
       "      <th>location</th>\n",
       "      <th>text</th>\n",
       "    </tr>\n",
       "  </thead>\n",
       "  <tbody>\n",
       "    <tr>\n",
       "      <th>0</th>\n",
       "      <td>0</td>\n",
       "      <td>NaN</td>\n",
       "      <td>NaN</td>\n",
       "      <td>Just happened a terrible car crash</td>\n",
       "    </tr>\n",
       "    <tr>\n",
       "      <th>1</th>\n",
       "      <td>2</td>\n",
       "      <td>NaN</td>\n",
       "      <td>NaN</td>\n",
       "      <td>Heard about #earthquake is different cities, s...</td>\n",
       "    </tr>\n",
       "    <tr>\n",
       "      <th>2</th>\n",
       "      <td>3</td>\n",
       "      <td>NaN</td>\n",
       "      <td>NaN</td>\n",
       "      <td>there is a forest fire at spot pond, geese are...</td>\n",
       "    </tr>\n",
       "    <tr>\n",
       "      <th>3</th>\n",
       "      <td>9</td>\n",
       "      <td>NaN</td>\n",
       "      <td>NaN</td>\n",
       "      <td>Apocalypse lighting. #Spokane #wildfires</td>\n",
       "    </tr>\n",
       "    <tr>\n",
       "      <th>4</th>\n",
       "      <td>11</td>\n",
       "      <td>NaN</td>\n",
       "      <td>NaN</td>\n",
       "      <td>Typhoon Soudelor kills 28 in China and Taiwan</td>\n",
       "    </tr>\n",
       "  </tbody>\n",
       "</table>\n",
       "</div>"
      ],
      "text/plain": [
       "   id keyword location                                               text\n",
       "0   0     NaN      NaN                 Just happened a terrible car crash\n",
       "1   2     NaN      NaN  Heard about #earthquake is different cities, s...\n",
       "2   3     NaN      NaN  there is a forest fire at spot pond, geese are...\n",
       "3   9     NaN      NaN           Apocalypse lighting. #Spokane #wildfires\n",
       "4  11     NaN      NaN      Typhoon Soudelor kills 28 in China and Taiwan"
      ]
     },
     "execution_count": 3,
     "metadata": {},
     "output_type": "execute_result"
    }
   ],
   "source": [
    "df.head()"
   ]
  },
  {
   "cell_type": "code",
   "execution_count": 4,
   "id": "fc55e621",
   "metadata": {},
   "outputs": [
    {
     "name": "stdout",
     "output_type": "stream",
     "text": [
      "<class 'pandas.core.frame.DataFrame'>\n",
      "RangeIndex: 3263 entries, 0 to 3262\n",
      "Data columns (total 4 columns):\n",
      " #   Column    Non-Null Count  Dtype \n",
      "---  ------    --------------  ----- \n",
      " 0   id        3263 non-null   int64 \n",
      " 1   keyword   3237 non-null   object\n",
      " 2   location  2158 non-null   object\n",
      " 3   text      3263 non-null   object\n",
      "dtypes: int64(1), object(3)\n",
      "memory usage: 102.1+ KB\n"
     ]
    }
   ],
   "source": [
    "df.info()"
   ]
  },
  {
   "cell_type": "code",
   "execution_count": 5,
   "id": "80718729",
   "metadata": {},
   "outputs": [],
   "source": [
    "def Preprocess_text(df,col,text=True):\n",
    "    df=pu.DealMissing(df,col)\n",
    "    df=pu.LowerCase(df,col)\n",
    "    df=pu.cont2expansion(df,col)\n",
    "    df=pu.Remove_Emails(df,col)\n",
    "    df=pu.Remove_urls(df,col)\n",
    "    df=pu.Remove_rt(df,col)\n",
    "    df=pu.Remove_SpecialChar(df,col)\n",
    "    df=pu.Remove_Numeric(df,col)\n",
    "    df=pu.Remove_ExtraSpaces(df,col)\n",
    "    df=pu.Remove_HTMLTags(df,col)\n",
    "    df=pu.Remove_AccentedChar(df,col)\n",
    "    df=pu.Remove_StopWords(df,col)\n",
    "    df=pu.Convert2Base(df,col)\n",
    "    if text:\n",
    "        df=pu.Remove_MostOccuring(df,col)   #Vary with data\n",
    "        #df=pu.Remove_RarelyOccuring(df,col)  #Vary with data\n",
    "        #df=pu.Remove_Blank(df,col)\n",
    "        print('Main Text')\n",
    "    return df"
   ]
  },
  {
   "cell_type": "code",
   "execution_count": 6,
   "id": "42ccc4ad",
   "metadata": {},
   "outputs": [
    {
     "name": "stdout",
     "output_type": "stream",
     "text": [
      "Main Text\n"
     ]
    }
   ],
   "source": [
    "df=Preprocess_text(df,col='text')"
   ]
  },
  {
   "cell_type": "code",
   "execution_count": 7,
   "id": "ab74942e",
   "metadata": {},
   "outputs": [],
   "source": [
    "df=Preprocess_text(df,col='keyword',text=False)"
   ]
  },
  {
   "cell_type": "code",
   "execution_count": 8,
   "id": "cda20879",
   "metadata": {},
   "outputs": [
    {
     "data": {
      "text/html": [
       "<div>\n",
       "<style scoped>\n",
       "    .dataframe tbody tr th:only-of-type {\n",
       "        vertical-align: middle;\n",
       "    }\n",
       "\n",
       "    .dataframe tbody tr th {\n",
       "        vertical-align: top;\n",
       "    }\n",
       "\n",
       "    .dataframe thead th {\n",
       "        text-align: right;\n",
       "    }\n",
       "</style>\n",
       "<table border=\"1\" class=\"dataframe\">\n",
       "  <thead>\n",
       "    <tr style=\"text-align: right;\">\n",
       "      <th></th>\n",
       "      <th>id</th>\n",
       "      <th>keyword</th>\n",
       "      <th>location</th>\n",
       "      <th>text</th>\n",
       "    </tr>\n",
       "  </thead>\n",
       "  <tbody>\n",
       "    <tr>\n",
       "      <th>0</th>\n",
       "      <td>0</td>\n",
       "      <td>null</td>\n",
       "      <td>NaN</td>\n",
       "      <td>happen terrible car crash</td>\n",
       "    </tr>\n",
       "    <tr>\n",
       "      <th>1</th>\n",
       "      <td>2</td>\n",
       "      <td>null</td>\n",
       "      <td>NaN</td>\n",
       "      <td>hear earthquake different city stay safe</td>\n",
       "    </tr>\n",
       "    <tr>\n",
       "      <th>2</th>\n",
       "      <td>3</td>\n",
       "      <td>null</td>\n",
       "      <td>NaN</td>\n",
       "      <td>forest fire spot pond geese flee street save</td>\n",
       "    </tr>\n",
       "    <tr>\n",
       "      <th>3</th>\n",
       "      <td>9</td>\n",
       "      <td>null</td>\n",
       "      <td>NaN</td>\n",
       "      <td>apocalypse light spokane wildfire</td>\n",
       "    </tr>\n",
       "    <tr>\n",
       "      <th>4</th>\n",
       "      <td>11</td>\n",
       "      <td>null</td>\n",
       "      <td>NaN</td>\n",
       "      <td>typhoon soudelor kill china taiwan</td>\n",
       "    </tr>\n",
       "  </tbody>\n",
       "</table>\n",
       "</div>"
      ],
      "text/plain": [
       "   id keyword location                                          text\n",
       "0   0    null      NaN                     happen terrible car crash\n",
       "1   2    null      NaN      hear earthquake different city stay safe\n",
       "2   3    null      NaN  forest fire spot pond geese flee street save\n",
       "3   9    null      NaN             apocalypse light spokane wildfire\n",
       "4  11    null      NaN            typhoon soudelor kill china taiwan"
      ]
     },
     "execution_count": 8,
     "metadata": {},
     "output_type": "execute_result"
    }
   ],
   "source": [
    "df.head()"
   ]
  },
  {
   "cell_type": "code",
   "execution_count": 9,
   "id": "3a5ece30",
   "metadata": {},
   "outputs": [],
   "source": [
    "df['combined']=df['text']+' '+df['keyword']"
   ]
  },
  {
   "cell_type": "code",
   "execution_count": 17,
   "id": "ab4bd4fd",
   "metadata": {},
   "outputs": [],
   "source": [
    "tfidf=pickle.load(open('Vectorizer_tfidf.pkl', 'rb'))\n",
    "model_svc=pickle.load(open('model_SVC.pkl', 'rb'))"
   ]
  },
  {
   "cell_type": "code",
   "execution_count": 18,
   "id": "c0488ba9",
   "metadata": {},
   "outputs": [],
   "source": [
    "X=tfidf.transform(df['text'])\n",
    "X=X.toarray()"
   ]
  },
  {
   "cell_type": "markdown",
   "id": "6c26b4e3",
   "metadata": {},
   "source": [
    "### Making prediction"
   ]
  },
  {
   "cell_type": "code",
   "execution_count": 19,
   "id": "2e659bab",
   "metadata": {},
   "outputs": [],
   "source": [
    "pred=model_svc.predict(X)"
   ]
  },
  {
   "cell_type": "code",
   "execution_count": 20,
   "id": "9592cc3a",
   "metadata": {},
   "outputs": [
    {
     "data": {
      "text/plain": [
       "3263"
      ]
     },
     "execution_count": 20,
     "metadata": {},
     "output_type": "execute_result"
    }
   ],
   "source": [
    "len(pred)"
   ]
  },
  {
   "cell_type": "code",
   "execution_count": 21,
   "id": "66d174da",
   "metadata": {},
   "outputs": [],
   "source": [
    "final_dict={'id':df.id.values,'target':pred}"
   ]
  },
  {
   "cell_type": "code",
   "execution_count": 22,
   "id": "08586cc5",
   "metadata": {},
   "outputs": [],
   "source": [
    "final_sub=pd.DataFrame(final_dict)"
   ]
  },
  {
   "cell_type": "code",
   "execution_count": 23,
   "id": "122e43e8",
   "metadata": {},
   "outputs": [],
   "source": [
    "final_sub.to_csv('Submission_SVC.csv',index=False)"
   ]
  },
  {
   "cell_type": "code",
   "execution_count": null,
   "id": "862693e4",
   "metadata": {},
   "outputs": [],
   "source": []
  },
  {
   "cell_type": "code",
   "execution_count": null,
   "id": "dd2ad356",
   "metadata": {},
   "outputs": [],
   "source": []
  }
 ],
 "metadata": {
  "kernelspec": {
   "display_name": "Python 3",
   "language": "python",
   "name": "python3"
  },
  "language_info": {
   "codemirror_mode": {
    "name": "ipython",
    "version": 3
   },
   "file_extension": ".py",
   "mimetype": "text/x-python",
   "name": "python",
   "nbconvert_exporter": "python",
   "pygments_lexer": "ipython3",
   "version": "3.8.4"
  }
 },
 "nbformat": 4,
 "nbformat_minor": 5
}
