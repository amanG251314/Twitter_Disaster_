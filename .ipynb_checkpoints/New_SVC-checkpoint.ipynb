{
 "cells": [
  {
   "cell_type": "markdown",
   "id": "a20551df",
   "metadata": {},
   "source": [
    "# Submission Detail\n",
    "********************************\n",
    "## Name:- Aman Patkar \n",
    "## College:- Indian Institute of Technology Jammu"
   ]
  },
  {
   "cell_type": "markdown",
   "id": "0fc068d4",
   "metadata": {},
   "source": [
    "### Importing the libraries"
   ]
  },
  {
   "cell_type": "code",
   "execution_count": 1,
   "id": "97e55f32",
   "metadata": {},
   "outputs": [],
   "source": [
    "import pandas as pd\n",
    "import numpy as np\n",
    "import matplotlib.pyplot as plt\n",
    "from sklearn.preprocessing import LabelEncoder\n",
    "from sklearn.metrics import classification_report\n",
    "from sklearn.metrics import accuracy_score,confusion_matrix\n",
    "from sklearn.metrics import roc_auc_score\n",
    "from sklearn.model_selection import train_test_split\n",
    "\n",
    "from sklearn.ensemble import RandomForestClassifier,\\\n",
    "GradientBoostingClassifier, VotingClassifier, BaggingClassifier, ExtraTreesClassifier\\\n",
    ",AdaBoostClassifier\n",
    "from xgboost import XGBClassifier\n",
    "from catboost import CatBoostClassifier\n",
    "from sklearn.svm import SVC\n",
    "from sklearn.model_selection import ShuffleSplit, StratifiedKFold\n",
    "from sklearn.model_selection import GridSearchCV,RandomizedSearchCV\n",
    "from collections import Counter\n",
    "from sklearn.metrics import plot_roc_curve\n",
    "from sklearn.metrics import roc_curve"
   ]
  },
  {
   "cell_type": "markdown",
   "id": "16e635af",
   "metadata": {},
   "source": [
    "### Loading the train and test data"
   ]
  },
  {
   "cell_type": "code",
   "execution_count": 2,
   "id": "4fa9693b",
   "metadata": {},
   "outputs": [],
   "source": [
    "train_data = pd.read_csv(r\"dataset\\Training Data.csv\")\n",
    "test_data = pd.read_csv(r\"dataset\\Test Data.csv\")"
   ]
  },
  {
   "cell_type": "markdown",
   "id": "9f44e1c8",
   "metadata": {},
   "source": [
    "### Some preprocessing to make test data as train data"
   ]
  },
  {
   "cell_type": "code",
   "execution_count": 3,
   "id": "83081aee",
   "metadata": {},
   "outputs": [],
   "source": [
    "test_data['profession']=test_data['profession'].apply(lambda x:'Flight_attendant' if x=='Flight attendant' else x )\n",
    "test_data['profession']=test_data['profession'].apply(lambda x:'Petroleum_Engineer' if x=='Petroleum Engineer' else x )\n",
    "test_data['profession']=test_data['profession'].apply(lambda x:'Chartered_Accountant' if x=='Chartered Accountant' else x )\n",
    "test_data['profession']=test_data['profession'].apply(lambda x:'Web_designer' if x=='Web designer' else x )\n",
    "test_data['profession']=test_data['profession'].apply(lambda x:'Financial_Analyst' if x=='Financial Analyst' else x )\n",
    "test_data['profession']=test_data['profession'].apply(lambda x:'Software_Developer' if x=='Software Developer' else x )\n",
    "test_data['profession']=test_data['profession'].apply(lambda x:'Graphic_Designer' if x=='Graphic Designer' else x )\n",
    "test_data['profession']=test_data['profession'].apply(lambda x:'Army_officer' if x=='Army officer' else x )\n",
    "test_data['profession']=test_data['profession'].apply(lambda x:'Civil_servant' if x=='Civil servant' else x )\n",
    "test_data['profession']=test_data['profession'].apply(lambda x:'Chemical_engineer' if x=='Chemical engineer' else x )\n",
    "test_data['profession']=test_data['profession'].apply(lambda x:'Air_traffic_controller' if x=='Air traffic controller' else x )\n",
    "test_data['profession']=test_data['profession'].apply(lambda x:'Civil_engineer' if x=='Civil engineer' else x )\n",
    "test_data['profession']=test_data['profession'].apply(lambda x:'Industrial_Engineer' if x=='Industrial Engineer' else x )\n",
    "test_data['profession']=test_data['profession'].apply(lambda x:'Hotel_Manager' if x=='Hotel Manager' else x )\n",
    "test_data['profession']=test_data['profession'].apply(lambda x:'Mechanical_engineer' if x=='Mechanical engineer' else x )\n",
    "test_data['profession']=test_data['profession'].apply(lambda x:'Computer_operator' if x=='Computer operator' else x )\n",
    "test_data['profession']=test_data['profession'].apply(lambda x:'Technical_writer' if x=='Technical writer' else x )\n",
    "test_data['profession']=test_data['profession'].apply(lambda x:'Technology_specialist' if x=='Technology specialist' else x )\n",
    "test_data['profession']=test_data['profession'].apply(lambda x:'Biomedical_Engineer' if x=='Biomedical Engineer' else x )\n",
    "test_data['profession']=test_data['profession'].apply(lambda x:'Design_Engineer' if x=='Design Engineer' else x )\n",
    "test_data['profession']=test_data['profession'].apply(lambda x:'Computer_hardware_engineer' if x=='Computer hardware engineer' else x )\n",
    "test_data['profession']=test_data['profession'].apply(lambda x:'Fashion_Designer' if x=='Fashion Designer' else x )\n",
    "test_data['profession']=test_data['profession'].apply(lambda x:'Police_officer' if x=='Police officer' else x )\n",
    "#------------------------------------------------------------------------------------------------------------------------------\n",
    "\n",
    "test_data['city']=test_data['city'].apply(lambda x:'Bihar_Sharif' if x=='Bihar Sharif' else x )\n",
    "test_data['city']=test_data['city'].apply(lambda x:'Sri_Ganganagar' if x=='Sri Ganganagar' else x )\n",
    "test_data['city']=test_data['city'].apply(lambda x:'Ghaziabad' if x=='Khora, Ghaziabad' else x )\n",
    "test_data['city']=test_data['city'].apply(lambda x:'New_Delhi' if x=='New Delhi' else x )\n",
    "test_data['city']=test_data['city'].apply(lambda x:'Kirari_Suleman_Nagar' if x=='Kirari Suleman Nagar' else x )\n",
    "test_data['city']=test_data['city'].apply(lambda x:'Sultan_Pur_Majra' if x=='Sultan Pur Majra' else x )\n",
    "test_data['city']=test_data['city'].apply(lambda x:'Rajpur_Sonarpur' if x=='Rajpur Sonarpur' else x )\n",
    "test_data['city']=test_data['city'].apply(lambda x:'Nangloi_Jat' if x=='Nangloi Jat' else x )\n",
    "test_data['city']=test_data['city'].apply(lambda x:'North_Dumdum' if x=='North Dumdum' else x )\n",
    "test_data['city']=test_data['city'].apply(lambda x:'South_Dumdum' if x=='South Dumdum' else x )\n",
    "test_data['city']=test_data['city'].apply(lambda x:'Navi_Mumbai' if x=='Navi Mumbai' else x )\n",
    "test_data['city']=test_data['city'].apply(lambda x:'Raurkela_Industrial_Township' if x=='Raurkela Industrial Township' else x )\n",
    "test_data['city']=test_data['city'].apply(lambda x:'Surendranagar_Dudhrej' if x=='Surendranagar Dudhrej' else x )\n",
    "test_data['city']=test_data['city'].apply(lambda x:'Bhalswa_Jahangir_Pur' if x=='Bhalswa Jahangir Pur' else x )\n",
    "test_data['city']=test_data['city'].apply(lambda x:'Karawal_Nagar' if x=='Karawal Nagar' else x )\n",
    "test_data['city']=test_data['city'].apply(lambda x:'Sangli-Miraj_&_Kupwad' if x=='Sangli-Miraj & Kupwad' else x )\n",
    "#----------------------------------------------------------------------------------------------------------------------------\n",
    "test_data['state']=test_data['state'].apply(lambda x:'West_Bengal' if x=='West Bengal' else x )\n",
    "test_data['state']=test_data['state'].apply(lambda x:'Tamil_Nadu' if x=='Tamil Nadu' else x )\n",
    "test_data['state']=test_data['state'].apply(lambda x:'Andhra_Pradesh' if x=='Andhra Pradesh' else x )\n",
    "test_data['state']=test_data['state'].apply(lambda x:'Madhya_Pradesh' if x=='Madhya Pradesh' else x )\n",
    "test_data['state']=test_data['state'].apply(lambda x:'Uttar_Pradesh' if x=='Uttar Pradesh' else x )\n",
    "test_data['state']=test_data['state'].apply(lambda x:'Uttar_Pradesh' if x=='Uttar Pradesh[5]' else x )\n",
    "test_data['state']=test_data['state'].apply(lambda x:'Jammu_and_Kashmir' if x=='Jammu and Kashmir' else x )\n",
    "test_data['state']=test_data['state'].apply(lambda x:'Himachal_Pradesh' if x=='Himachal Pradesh' else x )\n"
   ]
  },
  {
   "cell_type": "markdown",
   "id": "216c8161",
   "metadata": {},
   "source": [
    "## Categorical to Numerical"
   ]
  },
  {
   "cell_type": "code",
   "execution_count": 4,
   "id": "7d711336",
   "metadata": {},
   "outputs": [],
   "source": [
    "#training data\n",
    "cat_col=[col for col in train_data.columns if train_data[col].dtype=='O']\n",
    "Encoders={}\n",
    "for col in cat_col:\n",
    "    Encoders['L_enc_'+str(col)]=LabelEncoder()\n",
    "    train_data[col]=Encoders['L_enc_'+str(col)].fit_transform(train_data[col])"
   ]
  },
  {
   "cell_type": "code",
   "execution_count": 5,
   "id": "b9efa725",
   "metadata": {},
   "outputs": [],
   "source": [
    "for col in cat_col:\n",
    "    test_data[col]=Encoders['L_enc_'+str(col)].transform(test_data[col])"
   ]
  },
  {
   "cell_type": "markdown",
   "id": "53b22015",
   "metadata": {},
   "source": [
    "### Extrating target and dependent feature also with some preprocessing"
   ]
  },
  {
   "cell_type": "code",
   "execution_count": 6,
   "id": "de8fa944",
   "metadata": {},
   "outputs": [],
   "source": [
    "xtrain=train_data.drop(['risk_flag','Id'],axis=1)\n",
    "ytrain=train_data[\"risk_flag\"]\n",
    "xtrain['experiencePLUSjobyears']=xtrain['experience']+xtrain['current_job_years']\n",
    "xtrain=xtrain.drop(['experience','current_job_years'],axis=1)"
   ]
  },
  {
   "cell_type": "code",
   "execution_count": 7,
   "id": "668e4a6f",
   "metadata": {},
   "outputs": [
    {
     "data": {
      "text/html": [
       "<div>\n",
       "<style scoped>\n",
       "    .dataframe tbody tr th:only-of-type {\n",
       "        vertical-align: middle;\n",
       "    }\n",
       "\n",
       "    .dataframe tbody tr th {\n",
       "        vertical-align: top;\n",
       "    }\n",
       "\n",
       "    .dataframe thead th {\n",
       "        text-align: right;\n",
       "    }\n",
       "</style>\n",
       "<table border=\"1\" class=\"dataframe\">\n",
       "  <thead>\n",
       "    <tr style=\"text-align: right;\">\n",
       "      <th></th>\n",
       "      <th>income</th>\n",
       "      <th>age</th>\n",
       "      <th>married</th>\n",
       "      <th>house_ownership</th>\n",
       "      <th>car_ownership</th>\n",
       "      <th>profession</th>\n",
       "      <th>city</th>\n",
       "      <th>state</th>\n",
       "      <th>current_house_years</th>\n",
       "      <th>experiencePLUSjobyears</th>\n",
       "    </tr>\n",
       "  </thead>\n",
       "  <tbody>\n",
       "    <tr>\n",
       "      <th>0</th>\n",
       "      <td>1303835</td>\n",
       "      <td>23</td>\n",
       "      <td>1</td>\n",
       "      <td>2</td>\n",
       "      <td>0</td>\n",
       "      <td>33</td>\n",
       "      <td>251</td>\n",
       "      <td>13</td>\n",
       "      <td>13</td>\n",
       "      <td>6</td>\n",
       "    </tr>\n",
       "    <tr>\n",
       "      <th>1</th>\n",
       "      <td>7574516</td>\n",
       "      <td>40</td>\n",
       "      <td>1</td>\n",
       "      <td>2</td>\n",
       "      <td>0</td>\n",
       "      <td>43</td>\n",
       "      <td>227</td>\n",
       "      <td>14</td>\n",
       "      <td>13</td>\n",
       "      <td>19</td>\n",
       "    </tr>\n",
       "    <tr>\n",
       "      <th>2</th>\n",
       "      <td>3991815</td>\n",
       "      <td>66</td>\n",
       "      <td>0</td>\n",
       "      <td>2</td>\n",
       "      <td>0</td>\n",
       "      <td>47</td>\n",
       "      <td>8</td>\n",
       "      <td>12</td>\n",
       "      <td>10</td>\n",
       "      <td>8</td>\n",
       "    </tr>\n",
       "    <tr>\n",
       "      <th>3</th>\n",
       "      <td>6256451</td>\n",
       "      <td>41</td>\n",
       "      <td>1</td>\n",
       "      <td>2</td>\n",
       "      <td>1</td>\n",
       "      <td>43</td>\n",
       "      <td>54</td>\n",
       "      <td>17</td>\n",
       "      <td>12</td>\n",
       "      <td>4</td>\n",
       "    </tr>\n",
       "    <tr>\n",
       "      <th>4</th>\n",
       "      <td>5768871</td>\n",
       "      <td>47</td>\n",
       "      <td>1</td>\n",
       "      <td>2</td>\n",
       "      <td>0</td>\n",
       "      <td>11</td>\n",
       "      <td>296</td>\n",
       "      <td>22</td>\n",
       "      <td>14</td>\n",
       "      <td>14</td>\n",
       "    </tr>\n",
       "  </tbody>\n",
       "</table>\n",
       "</div>"
      ],
      "text/plain": [
       "    income  age  married  house_ownership  car_ownership  profession  city  \\\n",
       "0  1303835   23        1                2              0          33   251   \n",
       "1  7574516   40        1                2              0          43   227   \n",
       "2  3991815   66        0                2              0          47     8   \n",
       "3  6256451   41        1                2              1          43    54   \n",
       "4  5768871   47        1                2              0          11   296   \n",
       "\n",
       "   state  current_house_years  experiencePLUSjobyears  \n",
       "0     13                   13                       6  \n",
       "1     14                   13                      19  \n",
       "2     12                   10                       8  \n",
       "3     17                   12                       4  \n",
       "4     22                   14                      14  "
      ]
     },
     "execution_count": 7,
     "metadata": {},
     "output_type": "execute_result"
    }
   ],
   "source": [
    "xtrain.head()"
   ]
  },
  {
   "cell_type": "code",
   "execution_count": 8,
   "id": "bb7399d2",
   "metadata": {},
   "outputs": [],
   "source": [
    "# Train test split\n",
    "X_train, X_test, y_train, y_test = train_test_split(xtrain,ytrain,test_size=0.3,random_state=2021)"
   ]
  },
  {
   "cell_type": "code",
   "execution_count": 9,
   "id": "4a221942",
   "metadata": {},
   "outputs": [],
   "source": [
    "model_rf=SVC()"
   ]
  },
  {
   "cell_type": "code",
   "execution_count": 10,
   "id": "0ca620fb",
   "metadata": {},
   "outputs": [
    {
     "data": {
      "text/plain": [
       "SVC()"
      ]
     },
     "execution_count": 10,
     "metadata": {},
     "output_type": "execute_result"
    }
   ],
   "source": [
    "model_rf.fit(X_train,y_train)"
   ]
  },
  {
   "cell_type": "code",
   "execution_count": null,
   "id": "92e14175",
   "metadata": {},
   "outputs": [],
   "source": [
    "pred_prob=model_rf.predict_proba(X_test)[:,1]"
   ]
  },
  {
   "cell_type": "markdown",
   "id": "3bef4e66",
   "metadata": {},
   "source": [
    "### To finding the best threshold based on roc"
   ]
  },
  {
   "cell_type": "code",
   "execution_count": null,
   "id": "4e155b0c",
   "metadata": {},
   "outputs": [],
   "source": [
    "\n",
    "fpr, tpr, thresholds = roc_curve(y_test, pred_prob)\n",
    "thresholds"
   ]
  },
  {
   "cell_type": "markdown",
   "id": "0730901e",
   "metadata": {},
   "source": [
    "### Listing threshold and roc score"
   ]
  },
  {
   "cell_type": "code",
   "execution_count": null,
   "id": "b1d6875a",
   "metadata": {},
   "outputs": [],
   "source": [
    "roc_auc_score_ = []\n",
    "for thres in thresholds:\n",
    "    y_pred = np.where(pred_prob>thres,1,0)\n",
    "    roc_auc_score_.append(roc_auc_score(y_test, y_pred))\n",
    "    \n",
    "roc_auc_score_ = pd.concat([pd.Series(thresholds), pd.Series(roc_auc_score_)],\n",
    "                        axis=1)\n",
    "roc_auc_score_.columns = ['thresholds', 'roc_auc_score']\n",
    "roc_auc_score_.sort_values(by='roc_auc_score', ascending=False, inplace=True)\n",
    "roc_auc_score_.head()"
   ]
  },
  {
   "cell_type": "code",
   "execution_count": 78,
   "id": "d9ee5eae",
   "metadata": {},
   "outputs": [],
   "source": [
    "pred_ens = np.where(pred_prob>0.093664,1,0)"
   ]
  },
  {
   "cell_type": "code",
   "execution_count": null,
   "id": "316f4c30",
   "metadata": {},
   "outputs": [],
   "source": [
    "pred_ens=model_rf.predict(X_test)"
   ]
  },
  {
   "cell_type": "code",
   "execution_count": null,
   "id": "10f36610",
   "metadata": {},
   "outputs": [],
   "source": [
    "print(\"Test roc_auc_score = {}\".format(roc_auc_score(y_test,pred_ens)))\n",
    "pd.DataFrame(confusion_matrix(y_test,pred_ens),\\\n",
    "             columns=['Predicted Negative', 'Predicted Positive'],\\\n",
    "             index=['Actual Negative', 'Actual Positive'])    "
   ]
  },
  {
   "cell_type": "code",
   "execution_count": null,
   "id": "ba82c1d4",
   "metadata": {},
   "outputs": [],
   "source": []
  },
  {
   "cell_type": "code",
   "execution_count": 80,
   "id": "212f6730",
   "metadata": {},
   "outputs": [
    {
     "name": "stdout",
     "output_type": "stream",
     "text": [
      "Test roc_auc_score = 0.8928313573793318\n"
     ]
    },
    {
     "data": {
      "text/html": [
       "<div>\n",
       "<style scoped>\n",
       "    .dataframe tbody tr th:only-of-type {\n",
       "        vertical-align: middle;\n",
       "    }\n",
       "\n",
       "    .dataframe tbody tr th {\n",
       "        vertical-align: top;\n",
       "    }\n",
       "\n",
       "    .dataframe thead th {\n",
       "        text-align: right;\n",
       "    }\n",
       "</style>\n",
       "<table border=\"1\" class=\"dataframe\">\n",
       "  <thead>\n",
       "    <tr style=\"text-align: right;\">\n",
       "      <th></th>\n",
       "      <th>Predicted Negative</th>\n",
       "      <th>Predicted Positive</th>\n",
       "    </tr>\n",
       "  </thead>\n",
       "  <tbody>\n",
       "    <tr>\n",
       "      <th>Actual Negative</th>\n",
       "      <td>52210</td>\n",
       "      <td>14225</td>\n",
       "    </tr>\n",
       "    <tr>\n",
       "      <th>Actual Positive</th>\n",
       "      <td>2</td>\n",
       "      <td>9163</td>\n",
       "    </tr>\n",
       "  </tbody>\n",
       "</table>\n",
       "</div>"
      ],
      "text/plain": [
       "                 Predicted Negative  Predicted Positive\n",
       "Actual Negative               52210               14225\n",
       "Actual Positive                   2                9163"
      ]
     },
     "execution_count": 80,
     "metadata": {},
     "output_type": "execute_result"
    }
   ],
   "source": [
    "print(\"Test roc_auc_score = {}\".format(roc_auc_score(y_test,pred_ens)))\n",
    "pd.DataFrame(confusion_matrix(y_test,pred_ens),\\\n",
    "             columns=['Predicted Negative', 'Predicted Positive'],\\\n",
    "             index=['Actual Negative', 'Actual Positive'])     "
   ]
  },
  {
   "cell_type": "code",
   "execution_count": null,
   "id": "a820dcee",
   "metadata": {},
   "outputs": [],
   "source": []
  },
  {
   "cell_type": "code",
   "execution_count": null,
   "id": "6f0fb752",
   "metadata": {},
   "outputs": [],
   "source": []
  },
  {
   "cell_type": "markdown",
   "id": "04b7b5de",
   "metadata": {},
   "source": [
    "## Submission"
   ]
  },
  {
   "cell_type": "code",
   "execution_count": 82,
   "id": "424e500a",
   "metadata": {},
   "outputs": [
    {
     "data": {
      "text/plain": [
       "<catboost.core.CatBoostClassifier at 0x1ea43e1bb80>"
      ]
     },
     "execution_count": 82,
     "metadata": {},
     "output_type": "execute_result"
    }
   ],
   "source": [
    "model_cat=CatBoostClassifier(class_weights={0:1.5,1:1})\n",
    "model_cat.fit(xtrain,ytrain,cat_features=xtrain.columns,verbose=False)\n"
   ]
  },
  {
   "cell_type": "code",
   "execution_count": 83,
   "id": "dbc65a93",
   "metadata": {},
   "outputs": [
    {
     "data": {
      "text/html": [
       "<div>\n",
       "<style scoped>\n",
       "    .dataframe tbody tr th:only-of-type {\n",
       "        vertical-align: middle;\n",
       "    }\n",
       "\n",
       "    .dataframe tbody tr th {\n",
       "        vertical-align: top;\n",
       "    }\n",
       "\n",
       "    .dataframe thead th {\n",
       "        text-align: right;\n",
       "    }\n",
       "</style>\n",
       "<table border=\"1\" class=\"dataframe\">\n",
       "  <thead>\n",
       "    <tr style=\"text-align: right;\">\n",
       "      <th></th>\n",
       "      <th>income</th>\n",
       "      <th>age</th>\n",
       "      <th>married</th>\n",
       "      <th>house_ownership</th>\n",
       "      <th>car_ownership</th>\n",
       "      <th>profession</th>\n",
       "      <th>city</th>\n",
       "      <th>state</th>\n",
       "      <th>current_house_years</th>\n",
       "      <th>experiencePLUSjobyears</th>\n",
       "    </tr>\n",
       "  </thead>\n",
       "  <tbody>\n",
       "    <tr>\n",
       "      <th>0</th>\n",
       "      <td>1303835</td>\n",
       "      <td>23</td>\n",
       "      <td>single</td>\n",
       "      <td>rented</td>\n",
       "      <td>no</td>\n",
       "      <td>Mechanical_engineer</td>\n",
       "      <td>Rewa</td>\n",
       "      <td>Madhya_Pradesh</td>\n",
       "      <td>13</td>\n",
       "      <td>6</td>\n",
       "    </tr>\n",
       "    <tr>\n",
       "      <th>1</th>\n",
       "      <td>7574516</td>\n",
       "      <td>40</td>\n",
       "      <td>single</td>\n",
       "      <td>rented</td>\n",
       "      <td>no</td>\n",
       "      <td>Software_Developer</td>\n",
       "      <td>Parbhani</td>\n",
       "      <td>Maharashtra</td>\n",
       "      <td>13</td>\n",
       "      <td>19</td>\n",
       "    </tr>\n",
       "    <tr>\n",
       "      <th>2</th>\n",
       "      <td>3991815</td>\n",
       "      <td>66</td>\n",
       "      <td>married</td>\n",
       "      <td>rented</td>\n",
       "      <td>no</td>\n",
       "      <td>Technical_writer</td>\n",
       "      <td>Alappuzha</td>\n",
       "      <td>Kerala</td>\n",
       "      <td>10</td>\n",
       "      <td>8</td>\n",
       "    </tr>\n",
       "    <tr>\n",
       "      <th>3</th>\n",
       "      <td>6256451</td>\n",
       "      <td>41</td>\n",
       "      <td>single</td>\n",
       "      <td>rented</td>\n",
       "      <td>yes</td>\n",
       "      <td>Software_Developer</td>\n",
       "      <td>Bhubaneswar</td>\n",
       "      <td>Odisha</td>\n",
       "      <td>12</td>\n",
       "      <td>4</td>\n",
       "    </tr>\n",
       "    <tr>\n",
       "      <th>4</th>\n",
       "      <td>5768871</td>\n",
       "      <td>47</td>\n",
       "      <td>single</td>\n",
       "      <td>rented</td>\n",
       "      <td>no</td>\n",
       "      <td>Civil_servant</td>\n",
       "      <td>Tiruchirappalli[10]</td>\n",
       "      <td>Tamil_Nadu</td>\n",
       "      <td>14</td>\n",
       "      <td>14</td>\n",
       "    </tr>\n",
       "  </tbody>\n",
       "</table>\n",
       "</div>"
      ],
      "text/plain": [
       "    income  age  married house_ownership car_ownership           profession  \\\n",
       "0  1303835   23   single          rented            no  Mechanical_engineer   \n",
       "1  7574516   40   single          rented            no   Software_Developer   \n",
       "2  3991815   66  married          rented            no     Technical_writer   \n",
       "3  6256451   41   single          rented           yes   Software_Developer   \n",
       "4  5768871   47   single          rented            no        Civil_servant   \n",
       "\n",
       "                  city           state  current_house_years  \\\n",
       "0                 Rewa  Madhya_Pradesh                   13   \n",
       "1             Parbhani     Maharashtra                   13   \n",
       "2            Alappuzha          Kerala                   10   \n",
       "3          Bhubaneswar          Odisha                   12   \n",
       "4  Tiruchirappalli[10]      Tamil_Nadu                   14   \n",
       "\n",
       "   experiencePLUSjobyears  \n",
       "0                       6  \n",
       "1                      19  \n",
       "2                       8  \n",
       "3                       4  \n",
       "4                      14  "
      ]
     },
     "execution_count": 83,
     "metadata": {},
     "output_type": "execute_result"
    }
   ],
   "source": [
    "xtrain.head()"
   ]
  },
  {
   "cell_type": "code",
   "execution_count": 84,
   "id": "6c1587f5",
   "metadata": {},
   "outputs": [],
   "source": [
    "test_data=test_data.drop('id',axis=1)\n",
    "test_data['experiencePLUSjobyears']=test_data['experience']+test_data['current_job_years']\n",
    "test_data=test_data.drop(['experience','current_job_years'],axis=1)"
   ]
  },
  {
   "cell_type": "code",
   "execution_count": 85,
   "id": "f790af1f",
   "metadata": {},
   "outputs": [
    {
     "data": {
      "text/html": [
       "<div>\n",
       "<style scoped>\n",
       "    .dataframe tbody tr th:only-of-type {\n",
       "        vertical-align: middle;\n",
       "    }\n",
       "\n",
       "    .dataframe tbody tr th {\n",
       "        vertical-align: top;\n",
       "    }\n",
       "\n",
       "    .dataframe thead th {\n",
       "        text-align: right;\n",
       "    }\n",
       "</style>\n",
       "<table border=\"1\" class=\"dataframe\">\n",
       "  <thead>\n",
       "    <tr style=\"text-align: right;\">\n",
       "      <th></th>\n",
       "      <th>income</th>\n",
       "      <th>age</th>\n",
       "      <th>married</th>\n",
       "      <th>house_ownership</th>\n",
       "      <th>car_ownership</th>\n",
       "      <th>profession</th>\n",
       "      <th>city</th>\n",
       "      <th>state</th>\n",
       "      <th>current_house_years</th>\n",
       "      <th>experiencePLUSjobyears</th>\n",
       "    </tr>\n",
       "  </thead>\n",
       "  <tbody>\n",
       "    <tr>\n",
       "      <th>0</th>\n",
       "      <td>7393090</td>\n",
       "      <td>59</td>\n",
       "      <td>single</td>\n",
       "      <td>rented</td>\n",
       "      <td>no</td>\n",
       "      <td>Geologist</td>\n",
       "      <td>Malda</td>\n",
       "      <td>West_Bengal</td>\n",
       "      <td>13</td>\n",
       "      <td>23</td>\n",
       "    </tr>\n",
       "    <tr>\n",
       "      <th>1</th>\n",
       "      <td>1215004</td>\n",
       "      <td>25</td>\n",
       "      <td>single</td>\n",
       "      <td>rented</td>\n",
       "      <td>no</td>\n",
       "      <td>Firefighter</td>\n",
       "      <td>Jalna</td>\n",
       "      <td>Maharashtra</td>\n",
       "      <td>10</td>\n",
       "      <td>10</td>\n",
       "    </tr>\n",
       "    <tr>\n",
       "      <th>2</th>\n",
       "      <td>8901342</td>\n",
       "      <td>50</td>\n",
       "      <td>single</td>\n",
       "      <td>rented</td>\n",
       "      <td>no</td>\n",
       "      <td>Lawyer</td>\n",
       "      <td>Thane</td>\n",
       "      <td>Maharashtra</td>\n",
       "      <td>14</td>\n",
       "      <td>21</td>\n",
       "    </tr>\n",
       "    <tr>\n",
       "      <th>3</th>\n",
       "      <td>1944421</td>\n",
       "      <td>49</td>\n",
       "      <td>married</td>\n",
       "      <td>rented</td>\n",
       "      <td>yes</td>\n",
       "      <td>Analyst</td>\n",
       "      <td>Latur</td>\n",
       "      <td>Maharashtra</td>\n",
       "      <td>12</td>\n",
       "      <td>12</td>\n",
       "    </tr>\n",
       "    <tr>\n",
       "      <th>4</th>\n",
       "      <td>13429</td>\n",
       "      <td>25</td>\n",
       "      <td>single</td>\n",
       "      <td>rented</td>\n",
       "      <td>yes</td>\n",
       "      <td>Comedian</td>\n",
       "      <td>Berhampore</td>\n",
       "      <td>West_Bengal</td>\n",
       "      <td>11</td>\n",
       "      <td>31</td>\n",
       "    </tr>\n",
       "  </tbody>\n",
       "</table>\n",
       "</div>"
      ],
      "text/plain": [
       "    income  age  married house_ownership car_ownership   profession  \\\n",
       "0  7393090   59   single          rented            no    Geologist   \n",
       "1  1215004   25   single          rented            no  Firefighter   \n",
       "2  8901342   50   single          rented            no       Lawyer   \n",
       "3  1944421   49  married          rented           yes      Analyst   \n",
       "4    13429   25   single          rented           yes     Comedian   \n",
       "\n",
       "         city        state  current_house_years  experiencePLUSjobyears  \n",
       "0       Malda  West_Bengal                   13                      23  \n",
       "1       Jalna  Maharashtra                   10                      10  \n",
       "2       Thane  Maharashtra                   14                      21  \n",
       "3       Latur  Maharashtra                   12                      12  \n",
       "4  Berhampore  West_Bengal                   11                      31  "
      ]
     },
     "execution_count": 85,
     "metadata": {},
     "output_type": "execute_result"
    }
   ],
   "source": [
    "test_data.head()"
   ]
  },
  {
   "cell_type": "code",
   "execution_count": 86,
   "id": "4aaad4f7",
   "metadata": {},
   "outputs": [],
   "source": [
    "pred_prob=model_cat.predict_proba(test_data)[:,1]"
   ]
  },
  {
   "cell_type": "code",
   "execution_count": 87,
   "id": "adc20663",
   "metadata": {},
   "outputs": [],
   "source": [
    "pred_ens = np.where(pred_prob>0.093664,1,0)"
   ]
  },
  {
   "cell_type": "code",
   "execution_count": 88,
   "id": "3f817929",
   "metadata": {},
   "outputs": [],
   "source": [
    "test_data = pd.read_csv(\"dataset\\Test Data.csv\")\n",
    "train_data = pd.read_csv(\"dataset\\Training Data.csv\")\n",
    "train_data=train_data.drop('risk_flag',axis=1)\n",
    "test_data.columns=train_data.columns"
   ]
  },
  {
   "cell_type": "code",
   "execution_count": 89,
   "id": "1f28384b",
   "metadata": {},
   "outputs": [],
   "source": [
    "final_dict={'id':test_data.Id.values,'risk_flag':pred_ens}"
   ]
  },
  {
   "cell_type": "code",
   "execution_count": 90,
   "id": "8259e737",
   "metadata": {},
   "outputs": [],
   "source": [
    "final_sub=pd.DataFrame(final_dict)"
   ]
  },
  {
   "cell_type": "code",
   "execution_count": 91,
   "id": "5c47018d",
   "metadata": {},
   "outputs": [],
   "source": [
    "final_sub.to_csv('Submission_Catboost.csv',index=False)"
   ]
  },
  {
   "cell_type": "code",
   "execution_count": null,
   "id": "77ba3f4f",
   "metadata": {},
   "outputs": [],
   "source": []
  }
 ],
 "metadata": {
  "kernelspec": {
   "display_name": "Python 3",
   "language": "python",
   "name": "python3"
  },
  "language_info": {
   "codemirror_mode": {
    "name": "ipython",
    "version": 3
   },
   "file_extension": ".py",
   "mimetype": "text/x-python",
   "name": "python",
   "nbconvert_exporter": "python",
   "pygments_lexer": "ipython3",
   "version": "3.8.4"
  }
 },
 "nbformat": 4,
 "nbformat_minor": 5
}
